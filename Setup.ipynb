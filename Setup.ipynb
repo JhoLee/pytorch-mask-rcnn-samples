{
 "cells": [
  {
   "cell_type": "markdown",
   "metadata": {},
   "source": [
    "# Setup for PyTorch Mask-RCNN"
   ]
  },
  {
   "cell_type": "markdown",
   "metadata": {},
   "source": [
    "## Installs\n",
    "\n",
    "System (Linux and NVIDIA GPU required with CUDA/cuDNN):\n",
    "* CUDA 9.0\n",
    "* NVIDIA Tesla K80\n",
    "* Ubuntu 16.04\n",
    "\n",
    "\n",
    "The Python used (tested with Anaconda 3.5, 3.6, and 3.7):\n",
    "* DSVM:  `/anaconda/envs/py35/bin/python` or `/anaconda/envs/pytorch041/bin/python` if available\n",
    "* macOS:  `/Library/Frameworks/Python.framework/Versions/3.6/lib/python3.6/`\n"
   ]
  },
  {
   "cell_type": "code",
   "execution_count": 3,
   "metadata": {},
   "outputs": [
    {
     "name": "stdout",
     "output_type": "stream",
     "text": [
      "Sun May 12 03:17:16 2019       \r\n",
      "+-----------------------------------------------------------------------------+\r\n",
      "| NVIDIA-SMI 396.44                 Driver Version: 396.44                    |\r\n",
      "|-------------------------------+----------------------+----------------------+\r\n",
      "| GPU  Name        Persistence-M| Bus-Id        Disp.A | Volatile Uncorr. ECC |\r\n",
      "| Fan  Temp  Perf  Pwr:Usage/Cap|         Memory-Usage | GPU-Util  Compute M. |\r\n",
      "|===============================+======================+======================|\r\n",
      "|   0  Tesla K80           On   | 00004BBC:00:00.0 Off |                    0 |\r\n",
      "| N/A   34C    P8    34W / 149W |      0MiB / 11441MiB |      0%      Default |\r\n",
      "+-------------------------------+----------------------+----------------------+\r\n",
      "                                                                               \r\n",
      "+-----------------------------------------------------------------------------+\r\n",
      "| Processes:                                                       GPU Memory |\r\n",
      "|  GPU       PID   Type   Process name                             Usage      |\r\n",
      "|=============================================================================|\r\n",
      "|  No running processes found                                                 |\r\n",
      "+-----------------------------------------------------------------------------+\r\n"
     ]
    }
   ],
   "source": [
    "! nvidia-smi"
   ]
  },
  {
   "cell_type": "code",
   "execution_count": 4,
   "metadata": {},
   "outputs": [
    {
     "data": {
      "text/plain": [
       "'/anaconda/envs/pytorch041/bin/python'"
      ]
     },
     "execution_count": 4,
     "metadata": {},
     "output_type": "execute_result"
    }
   ],
   "source": [
    "# What Python\n",
    "import sys\n",
    "sys.executable"
   ]
  },
  {
   "cell_type": "code",
   "execution_count": null,
   "metadata": {
    "scrolled": false
   },
   "outputs": [],
   "source": [
    "# Install libs from requirements.txt library\n",
    "! sudo LC_ALL=C {sys.executable} -m pip install -r requirements.txt"
   ]
  },
  {
   "cell_type": "code",
   "execution_count": 5,
   "metadata": {},
   "outputs": [
    {
     "data": {
      "text/plain": [
       "'0.4.1.post2'"
      ]
     },
     "execution_count": 5,
     "metadata": {},
     "output_type": "execute_result"
    }
   ],
   "source": [
    "# What PyTorch\n",
    "import torch\n",
    "torch.__version__"
   ]
  },
  {
   "cell_type": "markdown",
   "metadata": {},
   "source": [
    "## Building the extensions\n",
    "\n",
    "Could also do:\n",
    "\n",
    "```\n",
    "! export PATH=/usr/local/cuda/bin:$PATH &&\\\n",
    "    export USE_OPENCV=1 &&\\\n",
    "    export LD_LIBRARY_PATH=/usr/local/cuda/lib64:$LD_LIBRARY_PATH &&\\\n",
    "    export LD_LIBRARY_PATH=/usr/local/lib:$LD_LIBRARY_PATH &&\\\n",
    "    export CUDA_BIN_PATH=/usr/local/cuda/bin &&\\\n",
    "    export CUDA_TOOLKIT_ROOT_DIR=/usr/local/cuda/ &&\\\n",
    "    export CUDNN_LIB_DIR=/usr/local/cuda/lib64 &&\\\n",
    "    export CUDA_HOST_COMPILER=cc &&\\\n",
    "    export USE_CUDA=1 &&\\\n",
    "    export USE_NNPACK=1 &&\\\n",
    "    cd nms/src/cuda/ && nvcc -c -o nms_kernel.cu.o nms_kernel.cu -x cu -Xcompiler -fPIC &&\\\n",
    "    cd ../../ &&\\\n",
    "    TORCH_CUDA_ARCH_LIST=\"3.5 5.2 6.0 6.1+PTX\" TORCH_NVCC_FLAGS=\"-Xfatbin -compress-all\" &&\\\n",
    "    CC=cc CXX=cc++ python3 build.py\n",
    "```"
   ]
  },
  {
   "cell_type": "markdown",
   "metadata": {},
   "source": [
    "**NOTE**: Update the path to Python executable below before running the following bash script"
   ]
  },
  {
   "cell_type": "code",
   "execution_count": 16,
   "metadata": {
    "scrolled": false
   },
   "outputs": [
    {
     "name": "stdout",
     "output_type": "stream",
     "text": [
      "Compiling crop_and_resize kernels by nvcc...\n",
      "Including CUDA code.\n",
      "/data/home/wonderwoman/notebooks/pytorch-mask-rcnn-samples/lib/roi_align\n",
      "generating /tmp/tmp7w45x_xn/_crop_and_resize.c\n",
      "setting the current directory to '/tmp/tmp7w45x_xn'\n",
      "running build_ext\n",
      "building '_crop_and_resize' extension\n",
      "creating data\n",
      "creating data/home\n",
      "creating data/home/wonderwoman\n",
      "creating data/home/wonderwoman/notebooks\n",
      "creating data/home/wonderwoman/notebooks/pytorch-mask-rcnn-samples\n",
      "creating data/home/wonderwoman/notebooks/pytorch-mask-rcnn-samples/lib\n",
      "creating data/home/wonderwoman/notebooks/pytorch-mask-rcnn-samples/lib/roi_align\n",
      "creating data/home/wonderwoman/notebooks/pytorch-mask-rcnn-samples/lib/roi_align/src\n",
      "gcc -pthread -B /data/anaconda/envs/pytorch041/compiler_compat -Wl,--sysroot=/ -Wsign-compare -DNDEBUG -g -fwrapv -O3 -Wall -Wstrict-prototypes -fPIC -DWITH_CUDA -I/anaconda/envs/pytorch041/lib/python3.7/site-packages/torch/utils/ffi/../../lib/include -I/anaconda/envs/pytorch041/lib/python3.7/site-packages/torch/utils/ffi/../../lib/include/TH -I/anaconda/envs/pytorch041/lib/python3.7/site-packages/torch/utils/ffi/../../lib/include/THC -I/usr/local/cuda/include -I/anaconda/envs/pytorch041/include/python3.7m -c _crop_and_resize.c -o ./_crop_and_resize.o -std=c99 -std=c99\n",
      "gcc -pthread -B /data/anaconda/envs/pytorch041/compiler_compat -Wl,--sysroot=/ -Wsign-compare -DNDEBUG -g -fwrapv -O3 -Wall -Wstrict-prototypes -fPIC -DWITH_CUDA -I/anaconda/envs/pytorch041/lib/python3.7/site-packages/torch/utils/ffi/../../lib/include -I/anaconda/envs/pytorch041/lib/python3.7/site-packages/torch/utils/ffi/../../lib/include/TH -I/anaconda/envs/pytorch041/lib/python3.7/site-packages/torch/utils/ffi/../../lib/include/THC -I/usr/local/cuda/include -I/anaconda/envs/pytorch041/include/python3.7m -c /data/home/wonderwoman/notebooks/pytorch-mask-rcnn-samples/lib/roi_align/src/crop_and_resize.c -o ./data/home/wonderwoman/notebooks/pytorch-mask-rcnn-samples/lib/roi_align/src/crop_and_resize.o -std=c99 -std=c99\n",
      "gcc -pthread -B /data/anaconda/envs/pytorch041/compiler_compat -Wl,--sysroot=/ -Wsign-compare -DNDEBUG -g -fwrapv -O3 -Wall -Wstrict-prototypes -fPIC -DWITH_CUDA -I/anaconda/envs/pytorch041/lib/python3.7/site-packages/torch/utils/ffi/../../lib/include -I/anaconda/envs/pytorch041/lib/python3.7/site-packages/torch/utils/ffi/../../lib/include/TH -I/anaconda/envs/pytorch041/lib/python3.7/site-packages/torch/utils/ffi/../../lib/include/THC -I/usr/local/cuda/include -I/anaconda/envs/pytorch041/include/python3.7m -c /data/home/wonderwoman/notebooks/pytorch-mask-rcnn-samples/lib/roi_align/src/crop_and_resize_gpu.c -o ./data/home/wonderwoman/notebooks/pytorch-mask-rcnn-samples/lib/roi_align/src/crop_and_resize_gpu.o -std=c99 -std=c99\n",
      "gcc -pthread -shared -B /data/anaconda/envs/pytorch041/compiler_compat -L/data/anaconda/envs/pytorch041/lib -Wl,-rpath=/data/anaconda/envs/pytorch041/lib -Wl,--no-as-needed -Wl,--sysroot=/ ./_crop_and_resize.o ./data/home/wonderwoman/notebooks/pytorch-mask-rcnn-samples/lib/roi_align/src/crop_and_resize.o ./data/home/wonderwoman/notebooks/pytorch-mask-rcnn-samples/lib/roi_align/src/crop_and_resize_gpu.o /data/home/wonderwoman/notebooks/pytorch-mask-rcnn-samples/lib/roi_align/src/cuda/crop_and_resize_kernel.cu.o -o ./_crop_and_resize.so\n",
      "Compiling nms kernels by nvcc...\n",
      "Including CUDA code.\n",
      "/data/home/wonderwoman/notebooks/pytorch-mask-rcnn-samples/lib/nms\n",
      "generating /tmp/tmp1t_4ld5y/_nms.c\n",
      "setting the current directory to '/tmp/tmp1t_4ld5y'\n",
      "running build_ext\n",
      "building '_nms' extension\n",
      "creating data\n",
      "creating data/home\n",
      "creating data/home/wonderwoman\n",
      "creating data/home/wonderwoman/notebooks\n",
      "creating data/home/wonderwoman/notebooks/pytorch-mask-rcnn-samples\n",
      "creating data/home/wonderwoman/notebooks/pytorch-mask-rcnn-samples/lib\n",
      "creating data/home/wonderwoman/notebooks/pytorch-mask-rcnn-samples/lib/nms\n",
      "creating data/home/wonderwoman/notebooks/pytorch-mask-rcnn-samples/lib/nms/src\n",
      "gcc -pthread -B /data/anaconda/envs/pytorch041/compiler_compat -Wl,--sysroot=/ -Wsign-compare -DNDEBUG -g -fwrapv -O3 -Wall -Wstrict-prototypes -fPIC -DWITH_CUDA -I/anaconda/envs/pytorch041/lib/python3.7/site-packages/torch/utils/ffi/../../lib/include -I/anaconda/envs/pytorch041/lib/python3.7/site-packages/torch/utils/ffi/../../lib/include/TH -I/anaconda/envs/pytorch041/lib/python3.7/site-packages/torch/utils/ffi/../../lib/include/THC -I/usr/local/cuda/include -I/anaconda/envs/pytorch041/include/python3.7m -c _nms.c -o ./_nms.o -std=c99\n",
      "gcc -pthread -B /data/anaconda/envs/pytorch041/compiler_compat -Wl,--sysroot=/ -Wsign-compare -DNDEBUG -g -fwrapv -O3 -Wall -Wstrict-prototypes -fPIC -DWITH_CUDA -I/anaconda/envs/pytorch041/lib/python3.7/site-packages/torch/utils/ffi/../../lib/include -I/anaconda/envs/pytorch041/lib/python3.7/site-packages/torch/utils/ffi/../../lib/include/TH -I/anaconda/envs/pytorch041/lib/python3.7/site-packages/torch/utils/ffi/../../lib/include/THC -I/usr/local/cuda/include -I/anaconda/envs/pytorch041/include/python3.7m -c /data/home/wonderwoman/notebooks/pytorch-mask-rcnn-samples/lib/nms/src/nms.c -o ./data/home/wonderwoman/notebooks/pytorch-mask-rcnn-samples/lib/nms/src/nms.o -std=c99\n",
      "gcc -pthread -B /data/anaconda/envs/pytorch041/compiler_compat -Wl,--sysroot=/ -Wsign-compare -DNDEBUG -g -fwrapv -O3 -Wall -Wstrict-prototypes -fPIC -DWITH_CUDA -I/anaconda/envs/pytorch041/lib/python3.7/site-packages/torch/utils/ffi/../../lib/include -I/anaconda/envs/pytorch041/lib/python3.7/site-packages/torch/utils/ffi/../../lib/include/TH -I/anaconda/envs/pytorch041/lib/python3.7/site-packages/torch/utils/ffi/../../lib/include/THC -I/usr/local/cuda/include -I/anaconda/envs/pytorch041/include/python3.7m -c /data/home/wonderwoman/notebooks/pytorch-mask-rcnn-samples/lib/nms/src/nms_cuda.c -o ./data/home/wonderwoman/notebooks/pytorch-mask-rcnn-samples/lib/nms/src/nms_cuda.o -std=c99\n",
      "gcc -pthread -shared -B /data/anaconda/envs/pytorch041/compiler_compat -L/data/anaconda/envs/pytorch041/lib -Wl,-rpath=/data/anaconda/envs/pytorch041/lib -Wl,--no-as-needed -Wl,--sysroot=/ ./_nms.o ./data/home/wonderwoman/notebooks/pytorch-mask-rcnn-samples/lib/nms/src/nms.o ./data/home/wonderwoman/notebooks/pytorch-mask-rcnn-samples/lib/nms/src/nms_cuda.o /data/home/wonderwoman/notebooks/pytorch-mask-rcnn-samples/lib/nms/src/cuda/nms_kernel.cu.o -o ./_nms.so\n"
     ]
    },
    {
     "name": "stderr",
     "output_type": "stream",
     "text": [
      "/data/home/wonderwoman/notebooks/pytorch-mask-rcnn-samples/lib/roi_align/src/crop_and_resize.c: In function ‘CropAndResizePerBox’:\n",
      "/data/home/wonderwoman/notebooks/pytorch-mask-rcnn-samples/lib/roi_align/src/crop_and_resize.c:30:0: warning: ignoring #pragma omp parallel [-Wunknown-pragmas]\n",
      "     #pragma omp parallel for\n",
      " ^\n",
      "/data/home/wonderwoman/notebooks/pytorch-mask-rcnn-samples/lib/nms/src/nms_cuda.c: In function ‘gpu_nms’:\n",
      "/data/home/wonderwoman/notebooks/pytorch-mask-rcnn-samples/lib/nms/src/nms_cuda.c:29:35: warning: initialization from incompatible pointer type [-Wincompatible-pointer-types]\n",
      "   unsigned long long* mask_flat = THCudaLongTensor_data(state, mask);\n",
      "                                   ^\n",
      "/data/home/wonderwoman/notebooks/pytorch-mask-rcnn-samples/lib/nms/src/nms_cuda.c:37:40: warning: initialization from incompatible pointer type [-Wincompatible-pointer-types]\n",
      "   unsigned long long * mask_cpu_flat = THLongTensor_data(mask_cpu);\n",
      "                                        ^\n",
      "/data/home/wonderwoman/notebooks/pytorch-mask-rcnn-samples/lib/nms/src/nms_cuda.c:40:39: warning: initialization from incompatible pointer type [-Wincompatible-pointer-types]\n",
      "   unsigned long long* remv_cpu_flat = THLongTensor_data(remv_cpu);\n",
      "                                       ^\n",
      "/data/home/wonderwoman/notebooks/pytorch-mask-rcnn-samples/lib/nms/src/nms_cuda.c:23:7: warning: unused variable ‘boxes_dim’ [-Wunused-variable]\n",
      "   int boxes_dim = THCudaTensor_size(state, boxes, 1);\n",
      "       ^\n"
     ]
    }
   ],
   "source": [
    "%%bash\n",
    "\n",
    "export PATH=/anaconda/envs/pytorch041/bin/:$PATH\n",
    "\n",
    "CUDA_ARCH=\"-gencode arch=compute_30,code=sm_30 \\\n",
    "           -gencode arch=compute_35,code=sm_35 \\\n",
    "           -gencode arch=compute_50,code=sm_50 \\\n",
    "           -gencode arch=compute_52,code=sm_52 \\\n",
    "           -gencode arch=compute_60,code=sm_60 \\\n",
    "           -gencode arch=compute_61,code=sm_61 \\\n",
    "\t   -gencode arch=compute_70,code=sm_70 \"\n",
    "\n",
    "\n",
    "# Build RoIAlign\n",
    "cd lib/roi_align/src/cuda\n",
    "echo 'Compiling crop_and_resize kernels by nvcc...'\n",
    "/usr/local/cuda/bin/nvcc -c -o crop_and_resize_kernel.cu.o crop_and_resize_kernel.cu -x cu -Xcompiler -fPIC $CUDA_ARCH\n",
    "cd ../../\n",
    "python build.py\n",
    "cd ../..\n",
    "\n",
    "# Build NMS\n",
    "cd lib/nms/src/cuda\n",
    "echo \"Compiling nms kernels by nvcc...\"\n",
    "/usr/local/cuda/bin/nvcc -c -o nms_kernel.cu.o nms_kernel.cu -x cu -Xcompiler -fPIC $CUDA_ARCH\n",
    "cd ../../\n",
    "python build.py\n",
    "cd ../.."
   ]
  },
  {
   "cell_type": "markdown",
   "metadata": {},
   "source": [
    "## `pycocotools` and `coco` libraries"
   ]
  },
  {
   "cell_type": "markdown",
   "metadata": {},
   "source": [
    "**NOTE**: Update the path to Python executable below before running the following bash script"
   ]
  },
  {
   "cell_type": "code",
   "execution_count": 20,
   "metadata": {},
   "outputs": [
    {
     "name": "stdout",
     "output_type": "stream",
     "text": [
      "Compiling pycocotools/_mask.pyx because it changed.\n",
      "[1/1] Cythonizing pycocotools/_mask.pyx\n",
      "running build_ext\n",
      "building 'pycocotools._mask' extension\n",
      "creating build\n",
      "creating build/temp.linux-x86_64-3.7\n",
      "creating build/temp.linux-x86_64-3.7/pycocotools\n",
      "creating build/common\n",
      "cc -Wsign-compare -DNDEBUG -g -fwrapv -O3 -Wall -Wstrict-prototypes -fPIC -I/anaconda/envs/pytorch041/lib/python3.7/site-packages/numpy/core/include -I../common -I/anaconda/envs/pytorch041/include/python3.7m -c pycocotools/_mask.c -o build/temp.linux-x86_64-3.7/pycocotools/_mask.o -Wno-cpp -Wno-unused-function -std=c99\n",
      "cc -Wsign-compare -DNDEBUG -g -fwrapv -O3 -Wall -Wstrict-prototypes -fPIC -I/anaconda/envs/pytorch041/lib/python3.7/site-packages/numpy/core/include -I../common -I/anaconda/envs/pytorch041/include/python3.7m -c ../common/maskApi.c -o build/temp.linux-x86_64-3.7/../common/maskApi.o -Wno-cpp -Wno-unused-function -std=c99\n",
      "gcc -pthread -shared -B /data/anaconda/envs/pytorch041/compiler_compat -L/data/anaconda/envs/pytorch041/lib -Wl,-rpath=/data/anaconda/envs/pytorch041/lib -Wl,--no-as-needed -Wl,--sysroot=/ build/temp.linux-x86_64-3.7/pycocotools/_mask.o build/temp.linux-x86_64-3.7/../common/maskApi.o -o /data/home/wonderwoman/notebooks/pytorch-mask-rcnn-samples/coco/PythonAPI/pycocotools/_mask.cpython-37m-x86_64-linux-gnu.so\n"
     ]
    },
    {
     "name": "stderr",
     "output_type": "stream",
     "text": [
      "Cloning into 'coco'...\n",
      "/anaconda/envs/pytorch041/lib/python3.7/site-packages/Cython/Compiler/Main.py:367: FutureWarning: Cython directive 'language_level' not set, using 2 for now (Py2). This will change in a later release! File: /data/home/wonderwoman/notebooks/pytorch-mask-rcnn-samples/coco/PythonAPI/pycocotools/_mask.pyx\n",
      "  tree = Parsing.p_module(s, pxd, full_module_name)\n"
     ]
    }
   ],
   "source": [
    "%%bash\n",
    "\n",
    "export PATH=/anaconda/envs/pytorch041/bin/:$PATH\n",
    "\n",
    "rm -fr coco\n",
    "rm -fr cocoapi\n",
    "rm -fr pycocotools\n",
    "\n",
    "export CC=cc\n",
    "export CXX=cc++\n",
    "\n",
    "git clone https://github.com/waleedka/coco.git\n",
    "# git clone https://github.com/cocodataset/cocoapi.git &&\\\n",
    "cd coco/PythonAPI/ && python setup.py build_ext --inplace\n",
    "cd ../..\n",
    "ln -s coco/PythonAPI/pycocotools/ pycocotools"
   ]
  },
  {
   "cell_type": "code",
   "execution_count": 21,
   "metadata": {},
   "outputs": [
    {
     "name": "stdout",
     "output_type": "stream",
     "text": [
      "build_pytorch1.0_macosx_10.13.sh  lib\r\n",
      "coco\t\t\t\t  LICENSE\r\n",
      "coco.py\t\t\t\t  model.py\r\n",
      "config.py\t\t\t  __pycache__\r\n",
      "data\t\t\t\t  pycocotools\r\n",
      "Demo.ipynb\t\t\t  README.md\r\n",
      "demo.py\t\t\t\t  requirements.txt\r\n",
      "fish_maskrcnn.zip\t\t  Setup.ipynb\r\n",
      "fish_pytorch_style.py\t\t  Train.ipynb\r\n",
      "images\t\t\t\t  utils.py\r\n",
      "InstallPyTorchSourceCPU.ipynb\t  visualize.py\r\n",
      "InstallPyTorchSourceCUDA.ipynb\r\n"
     ]
    }
   ],
   "source": [
    "! ls"
   ]
  },
  {
   "cell_type": "markdown",
   "metadata": {},
   "source": [
    "Note, here, for macOS, using Xcode 9.4.1 command line tools"
   ]
  },
  {
   "cell_type": "code",
   "execution_count": null,
   "metadata": {},
   "outputs": [],
   "source": [
    "# # MacOS, see https://pytorch.org/ for other distributions\n",
    "# ! pip install torch_nightly -f https://download.pytorch.org/whl/nightly/cpu/torch_nightly.html"
   ]
  },
  {
   "cell_type": "markdown",
   "metadata": {},
   "source": [
    "More relevant resolved GitHub issues:\n",
    "* https://github.com/uber/horovod/issues/274#issuecomment-390813445\n",
    "* https://github.com/pytorch/pytorch/issues/10234"
   ]
  },
  {
   "cell_type": "code",
   "execution_count": null,
   "metadata": {},
   "outputs": [],
   "source": []
  }
 ],
 "metadata": {
  "kernelspec": {
   "display_name": "Python 3.5 - PyTorch 0.4.1",
   "language": "python",
   "name": "pytorch_041"
  },
  "language_info": {
   "codemirror_mode": {
    "name": "ipython",
    "version": 3
   },
   "file_extension": ".py",
   "mimetype": "text/x-python",
   "name": "python",
   "nbconvert_exporter": "python",
   "pygments_lexer": "ipython3",
   "version": "3.7.2"
  },
  "nav_menu": {},
  "toc": {
   "navigate_menu": true,
   "number_sections": true,
   "sideBar": true,
   "threshold": 6,
   "toc_cell": false,
   "toc_section_display": "block",
   "toc_window_display": false
  }
 },
 "nbformat": 4,
 "nbformat_minor": 2
}
