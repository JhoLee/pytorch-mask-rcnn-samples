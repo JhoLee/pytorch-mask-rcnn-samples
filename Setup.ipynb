{
 "cells": [
  {
   "cell_type": "markdown",
   "metadata": {},
   "source": [
    "# Setup for PyTorch Mask-RCNN"
   ]
  },
  {
   "cell_type": "markdown",
   "metadata": {},
   "source": [
    "## Installs\n",
    "\n",
    "### Installing PyTorch\n",
    "\n",
    "On macOS, system Python was used:\n",
    "* `/Library/Frameworks/Python.framework/Versions/3.6/lib/python3.6/`\n"
   ]
  },
  {
   "cell_type": "code",
   "execution_count": null,
   "metadata": {},
   "outputs": [],
   "source": [
    "# What Python\n",
    "\n",
    "import sys\n",
    "sys.executable"
   ]
  },
  {
   "cell_type": "code",
   "execution_count": null,
   "metadata": {},
   "outputs": [],
   "source": [
    "# # If not built for the system already, uncomment and install\n",
    "# ! pip install torch==0.4.0 torchvision"
   ]
  },
  {
   "cell_type": "code",
   "execution_count": null,
   "metadata": {},
   "outputs": [],
   "source": [
    "# What PyTorch\n",
    "\n",
    "import torch\n",
    "torch.__version__"
   ]
  },
  {
   "cell_type": "markdown",
   "metadata": {},
   "source": [
    "## Building the extensions\n",
    "\n",
    "**ONLY Run A or B for each extension**\n",
    "\n",
    "You may need to respecify your C and C++ compilers (CC, CXX).\n",
    "\n",
    "### Option A. Non-Maximum Suppression (NMS) with CUDA support"
   ]
  },
  {
   "cell_type": "code",
   "execution_count": null,
   "metadata": {},
   "outputs": [],
   "source": [
    "! export PATH=/Developer/NVIDIA/CUDA-9.2/bin:$PATH &&\\\n",
    "    export LD_LIBRARY_PATH=//Developer/NVIDIA/CUDA-9.2/lib:$LD_LIBRARY_PATH &&\\\n",
    "    export CUDA_BIN_PATH=/Developer/NVIDIA/CUDA-9.2/bin &&\\\n",
    "    export CUDA_TOOLKIT_ROOT_DIR=/Developer/NVIDIA/CUDA-9.2 &&\\\n",
    "    export CUDNN_LIB_DIR=//Developer/NVIDIA/CUDA-9.2/lib &&\\\n",
    "    export USE_CUDA=1 &&\\\n",
    "    export CC=clang &&\\\n",
    "    export CXX=clang++ &&\\\n",
    "    cd nms/src/cuda/ && nvcc -c -o nms_kernel.cu.o nms_kernel.cu -x cu -Xcompiler -fPIC &&\\\n",
    "    cd ../../ &&\\\n",
    "    CC=clang CXX=clang++ python3 build.py"
   ]
  },
  {
   "cell_type": "markdown",
   "metadata": {},
   "source": [
    "### Option B. Non-Maximum Suppression (NMS) for CPU"
   ]
  },
  {
   "cell_type": "code",
   "execution_count": null,
   "metadata": {
    "scrolled": false
   },
   "outputs": [],
   "source": [
    "! cd nms && NO_CUDA=1 NO_NNPACK=1 MACOSX_DEPLOYMENT_TARGET=10.9 CC=clang CXX=clang++ python3 build.py"
   ]
  },
  {
   "cell_type": "markdown",
   "metadata": {},
   "source": [
    "### Option A. Region-of-Interest (ROI) Alignment with CUDA support\n",
    "\n",
    "For the next cuda compiler command, `-arch` flag refers to architectures listed at https://docs.nvidia.com/cuda/cuda-compiler-driver-nvcc/index.html#gpu-compilation."
   ]
  },
  {
   "cell_type": "code",
   "execution_count": null,
   "metadata": {
    "scrolled": false
   },
   "outputs": [],
   "source": [
    "! export PATH=/Developer/NVIDIA/CUDA-10.0/bin:$PATH &&\\\n",
    "    export LD_LIBRARY_PATH=//Developer/NVIDIA/CUDA-10.0/lib:$LD_LIBRARY_PATH &&\\\n",
    "    export CUDA_BIN_PATH=/Developer/NVIDIA/CUDA-10.0/bin &&\\\n",
    "    export CUDA_TOOLKIT_ROOT_DIR=/Developer/NVIDIA/CUDA-10.0 &&\\\n",
    "    export CUDNN_LIB_DIR=//Developer/NVIDIA/CUDA-10.0/lib &&\\\n",
    "    export USE_CUDA=1 &&\\\n",
    "    export CC=clang &&\\\n",
    "    export CXX=clang++ &&\\\n",
    "    cd roialign/roi_align/src/cuda/ &&\\\n",
    "    nvcc -c -o crop_and_resize_kernel.cu.o crop_and_resize_kernel.cu -x cu -Xcompiler -fPIC &&\\\n",
    "    cd ../../ &&\\\n",
    "    python3 build.py"
   ]
  },
  {
   "cell_type": "markdown",
   "metadata": {},
   "source": [
    "### Option B. Region-of-Interest (ROI) Alignment for CPU\n",
    "\n",
    "**Funny note.  Built this extension under PyTorch 0.4.0 as it doesn't build under >=0.4.1**"
   ]
  },
  {
   "cell_type": "code",
   "execution_count": null,
   "metadata": {
    "scrolled": false
   },
   "outputs": [],
   "source": [
    "! cd roialign/roi_align && NO_CUDA=1 NO_NNPACK=1 MACOSX_DEPLOYMENT_TARGET=10.9 CC=clang CXX=clang++ python3 build.py"
   ]
  },
  {
   "cell_type": "code",
   "execution_count": null,
   "metadata": {},
   "outputs": [],
   "source": [
    "! ls"
   ]
  },
  {
   "cell_type": "markdown",
   "metadata": {},
   "source": [
    "## `pycocotools` and `coco` libraries"
   ]
  },
  {
   "cell_type": "code",
   "execution_count": null,
   "metadata": {},
   "outputs": [],
   "source": [
    "! export CC=clang &&\\\n",
    "    export CXX=clang++ &&\\\n",
    "\n",
    "    git clone https://github.com/waleedka/coco.git &&\\\n",
    "    cd coco/PythonAPI &&\\\n",
    "    python3 setup.py build_ext --inplace &&\\\n",
    "    cd ../../ &&\\\n",
    "    ln -s coco/PythonAPI/pycocotools/ pycocotools"
   ]
  },
  {
   "cell_type": "markdown",
   "metadata": {},
   "source": [
    "Note, here, for macOS, using Xcode 9.4.1 command line tools"
   ]
  },
  {
   "cell_type": "code",
   "execution_count": null,
   "metadata": {},
   "outputs": [],
   "source": [
    "# Clean up\n",
    "! rm -fr pycocotools &&\\\n",
    "    rm -fr coco"
   ]
  },
  {
   "cell_type": "markdown",
   "metadata": {},
   "source": [
    "More relevant resolved GitHub issues:\n",
    "* https://github.com/uber/horovod/issues/274#issuecomment-390813445"
   ]
  },
  {
   "cell_type": "code",
   "execution_count": null,
   "metadata": {},
   "outputs": [],
   "source": []
  }
 ],
 "metadata": {
  "kernelspec": {
   "display_name": "Python 3.6 (sys)",
   "language": "python",
   "name": "py36sys"
  },
  "language_info": {
   "codemirror_mode": {
    "name": "ipython",
    "version": 3
   },
   "file_extension": ".py",
   "mimetype": "text/x-python",
   "name": "python",
   "nbconvert_exporter": "python",
   "pygments_lexer": "ipython3",
   "version": "3.6.6"
  },
  "nav_menu": {},
  "toc": {
   "navigate_menu": true,
   "number_sections": true,
   "sideBar": true,
   "threshold": 6,
   "toc_cell": false,
   "toc_section_display": "block",
   "toc_window_display": false
  }
 },
 "nbformat": 4,
 "nbformat_minor": 2
}
