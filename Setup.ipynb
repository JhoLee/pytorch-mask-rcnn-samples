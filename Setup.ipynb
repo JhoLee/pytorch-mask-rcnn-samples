{
 "cells": [
  {
   "cell_type": "markdown",
   "metadata": {},
   "source": [
    "# Setup for PyTorch Mask-RCNN"
   ]
  },
  {
   "cell_type": "markdown",
   "metadata": {},
   "source": [
    "## Installs\n",
    "\n",
    "### Installing PyTorch\n",
    "\n",
    "On macOS, system Python was used:\n",
    "* `/Library/Frameworks/Python.framework/Versions/3.6/lib/python3.6/`\n"
   ]
  },
  {
   "cell_type": "code",
   "execution_count": 1,
   "metadata": {},
   "outputs": [
    {
     "data": {
      "text/plain": [
       "'/Library/Frameworks/Python.framework/Versions/3.6/bin/python3'"
      ]
     },
     "execution_count": 1,
     "metadata": {},
     "output_type": "execute_result"
    }
   ],
   "source": [
    "# What Python\n",
    "\n",
    "import sys\n",
    "sys.executable"
   ]
  },
  {
   "cell_type": "code",
   "execution_count": 2,
   "metadata": {},
   "outputs": [],
   "source": [
    "# # If not built for the system already, uncomment and install\n",
    "# ! pip install torch==0.4.0 torchvision"
   ]
  },
  {
   "cell_type": "code",
   "execution_count": 15,
   "metadata": {},
   "outputs": [
    {
     "data": {
      "text/plain": [
       "'1.0.0a0+ff608a9'"
      ]
     },
     "execution_count": 15,
     "metadata": {},
     "output_type": "execute_result"
    }
   ],
   "source": [
    "# What PyTorch\n",
    "\n",
    "import torch\n",
    "torch.__version__"
   ]
  },
  {
   "cell_type": "markdown",
   "metadata": {},
   "source": [
    "## Building the extensions\n",
    "\n",
    "**ONLY Run A or B for each extension**\n",
    "\n",
    "You may need to respecify your C and C++ compilers (CC, CXX).\n",
    "\n",
    "### Option A. Non-Maximum Suppression (NMS) with CUDA support"
   ]
  },
  {
   "cell_type": "code",
   "execution_count": null,
   "metadata": {},
   "outputs": [],
   "source": [
    "! export PATH=/Developer/NVIDIA/CUDA-9.2/bin:$PATH &&\\\n",
    "    export LD_LIBRARY_PATH=//Developer/NVIDIA/CUDA-9.2/lib:$LD_LIBRARY_PATH &&\\\n",
    "    export CUDA_BIN_PATH=/Developer/NVIDIA/CUDA-9.2/bin &&\\\n",
    "    export CUDA_TOOLKIT_ROOT_DIR=/Developer/NVIDIA/CUDA-9.2 &&\\\n",
    "    export CUDNN_LIB_DIR=//Developer/NVIDIA/CUDA-9.2/lib &&\\\n",
    "    export USE_CUDA=1 &&\\\n",
    "    export CC=clang &&\\\n",
    "    export CXX=clang++ &&\\\n",
    "    cd nms/src/cuda/ && nvcc -c -o nms_kernel.cu.o nms_kernel.cu -x cu -Xcompiler -fPIC &&\\\n",
    "    cd ../../ &&\\\n",
    "    CC=clang CXX=clang++ python3 build.py"
   ]
  },
  {
   "cell_type": "markdown",
   "metadata": {},
   "source": [
    "### Option B. Non-Maximum Suppression (NMS) for CPU"
   ]
  },
  {
   "cell_type": "code",
   "execution_count": 1,
   "metadata": {
    "scrolled": false
   },
   "outputs": [
    {
     "name": "stdout",
     "output_type": "stream",
     "text": [
      "Traceback (most recent call last):\r\n",
      "  File \"build.py\", line 3, in <module>\r\n",
      "    from torch.utils.ffi import create_extension\r\n",
      "  File \"/Library/Frameworks/Python.framework/Versions/3.6/lib/python3.6/site-packages/torch/utils/ffi/__init__.py\", line 1, in <module>\r\n",
      "    raise ImportError(\"torch.utils.ffi is deprecated. Please use cpp extensions instead.\")\r\n",
      "ImportError: torch.utils.ffi is deprecated. Please use cpp extensions instead.\r\n"
     ]
    }
   ],
   "source": [
    "! cd nms && NO_CUDA=1 NO_NNPACK=1 MACOSX_DEPLOYMENT_TARGET=10.13 CC=clang CXX=clang++ python3 build.py"
   ]
  },
  {
   "cell_type": "markdown",
   "metadata": {},
   "source": [
    "### Option A. Region-of-Interest (ROI) Alignment with CUDA support\n",
    "\n",
    "For the next cuda compiler command, `-arch` flag refers to architectures listed at https://docs.nvidia.com/cuda/cuda-compiler-driver-nvcc/index.html#gpu-compilation."
   ]
  },
  {
   "cell_type": "code",
   "execution_count": null,
   "metadata": {
    "scrolled": false
   },
   "outputs": [],
   "source": [
    "! export PATH=/Developer/NVIDIA/CUDA-10.0/bin:$PATH &&\\\n",
    "    export LD_LIBRARY_PATH=//Developer/NVIDIA/CUDA-10.0/lib:$LD_LIBRARY_PATH &&\\\n",
    "    export CUDA_BIN_PATH=/Developer/NVIDIA/CUDA-10.0/bin &&\\\n",
    "    export CUDA_TOOLKIT_ROOT_DIR=/Developer/NVIDIA/CUDA-10.0 &&\\\n",
    "    export CUDNN_LIB_DIR=//Developer/NVIDIA/CUDA-10.0/lib &&\\\n",
    "    export USE_CUDA=1 &&\\\n",
    "    export CC=clang &&\\\n",
    "    export CXX=clang++ &&\\\n",
    "    cd roialign/roi_align/src/cuda/ &&\\\n",
    "    nvcc -c -o crop_and_resize_kernel.cu.o crop_and_resize_kernel.cu -x cu -Xcompiler -fPIC &&\\\n",
    "    cd ../../ &&\\\n",
    "    python3 build.py"
   ]
  },
  {
   "cell_type": "markdown",
   "metadata": {},
   "source": [
    "### Option B. Region-of-Interest (ROI) Alignment for CPU\n",
    "\n",
    "**Funny note.  Built this extension under PyTorch 0.4.0 as it doesn't build under >=0.4.1**"
   ]
  },
  {
   "cell_type": "code",
   "execution_count": 17,
   "metadata": {
    "scrolled": false
   },
   "outputs": [
    {
     "name": "stdout",
     "output_type": "stream",
     "text": [
      "/Users/micheleenharris/Documents/bin/github/pytorch-mask-rcnn-samples/roialign/roi_align\n",
      "generating /var/folders/_f/464k2bb144v0gwg6lys9db780000gn/T/tmpl8k7t1fg/_crop_and_resize.c\n",
      "setting the current directory to '/var/folders/_f/464k2bb144v0gwg6lys9db780000gn/T/tmpl8k7t1fg'\n",
      "running build_ext\n",
      "building '_crop_and_resize' extension\n",
      "creating Users\n",
      "creating Users/micheleenharris\n",
      "creating Users/micheleenharris/Documents\n",
      "creating Users/micheleenharris/Documents/bin\n",
      "creating Users/micheleenharris/Documents/bin/github\n",
      "creating Users/micheleenharris/Documents/bin/github/pytorch-mask-rcnn-samples\n",
      "creating Users/micheleenharris/Documents/bin/github/pytorch-mask-rcnn-samples/roialign\n",
      "creating Users/micheleenharris/Documents/bin/github/pytorch-mask-rcnn-samples/roialign/roi_align\n",
      "creating Users/micheleenharris/Documents/bin/github/pytorch-mask-rcnn-samples/roialign/roi_align/src\n",
      "clang -Wno-unused-result -Wsign-compare -Wunreachable-code -fno-common -dynamic -DNDEBUG -g -fwrapv -O3 -Wall -arch x86_64 -g -I/Library/Frameworks/Python.framework/Versions/3.6/lib/python3.6/site-packages/torch/utils/ffi/../../lib/include -I/Library/Frameworks/Python.framework/Versions/3.6/lib/python3.6/site-packages/torch/utils/ffi/../../lib/include/TH -I/Library/Frameworks/Python.framework/Versions/3.6/include/python3.6m -c _crop_and_resize.c -o ./_crop_and_resize.o -fopenmp -std=c99\n",
      "clang -Wno-unused-result -Wsign-compare -Wunreachable-code -fno-common -dynamic -DNDEBUG -g -fwrapv -O3 -Wall -arch x86_64 -g -I/Library/Frameworks/Python.framework/Versions/3.6/lib/python3.6/site-packages/torch/utils/ffi/../../lib/include -I/Library/Frameworks/Python.framework/Versions/3.6/lib/python3.6/site-packages/torch/utils/ffi/../../lib/include/TH -I/Library/Frameworks/Python.framework/Versions/3.6/include/python3.6m -c /Users/micheleenharris/Documents/bin/github/pytorch-mask-rcnn-samples/roialign/roi_align/src/crop_and_resize.c -o ./Users/micheleenharris/Documents/bin/github/pytorch-mask-rcnn-samples/roialign/roi_align/src/crop_and_resize.o -fopenmp -std=c99\n",
      "clang -bundle -undefined dynamic_lookup -arch x86_64 -g ./_crop_and_resize.o ./Users/micheleenharris/Documents/bin/github/pytorch-mask-rcnn-samples/roialign/roi_align/src/crop_and_resize.o -o ./_crop_and_resize.so\n"
     ]
    }
   ],
   "source": [
    "! cd roialign/roi_align && NO_CUDA=1 NO_NNPACK=1 MACOSX_DEPLOYMENT_TARGET=10.9 CC=clang CXX=clang++ python3 build.py"
   ]
  },
  {
   "cell_type": "code",
   "execution_count": null,
   "metadata": {},
   "outputs": [],
   "source": [
    "! ls"
   ]
  },
  {
   "cell_type": "markdown",
   "metadata": {},
   "source": [
    "## `pycocotools` and `coco` libraries"
   ]
  },
  {
   "cell_type": "code",
   "execution_count": 10,
   "metadata": {},
   "outputs": [
    {
     "name": "stdout",
     "output_type": "stream",
     "text": [
      "running build_ext\n",
      "cythoning pycocotools/_mask.pyx to pycocotools/_mask.c\n",
      "building 'pycocotools._mask' extension\n",
      "creating build\n",
      "creating build/common\n",
      "creating build/temp.macosx-10.9-x86_64-3.6\n",
      "creating build/temp.macosx-10.9-x86_64-3.6/pycocotools\n",
      "clang -Wno-unused-result -Wsign-compare -Wunreachable-code -fno-common -dynamic -DNDEBUG -g -fwrapv -O3 -Wall -arch x86_64 -g -I/Library/Frameworks/Python.framework/Versions/3.6/lib/python3.6/site-packages/numpy/core/include -I../common -I/Library/Frameworks/Python.framework/Versions/3.6/include/python3.6m -c ../common/maskApi.c -o build/temp.macosx-10.9-x86_64-3.6/../common/maskApi.o -Wno-cpp -Wno-unused-function -std=c99\n",
      "clang -Wno-unused-result -Wsign-compare -Wunreachable-code -fno-common -dynamic -DNDEBUG -g -fwrapv -O3 -Wall -arch x86_64 -g -I/Library/Frameworks/Python.framework/Versions/3.6/lib/python3.6/site-packages/numpy/core/include -I../common -I/Library/Frameworks/Python.framework/Versions/3.6/include/python3.6m -c pycocotools/_mask.c -o build/temp.macosx-10.9-x86_64-3.6/pycocotools/_mask.o -Wno-cpp -Wno-unused-function -std=c99\n",
      "creating build/lib.macosx-10.9-x86_64-3.6\n",
      "creating build/lib.macosx-10.9-x86_64-3.6/pycocotools\n",
      "clang -bundle -undefined dynamic_lookup -arch x86_64 -g build/temp.macosx-10.9-x86_64-3.6/../common/maskApi.o build/temp.macosx-10.9-x86_64-3.6/pycocotools/_mask.o -o build/lib.macosx-10.9-x86_64-3.6/pycocotools/_mask.cpython-36m-darwin.so\n",
      "copying build/lib.macosx-10.9-x86_64-3.6/pycocotools/_mask.cpython-36m-darwin.so -> pycocotools\n"
     ]
    },
    {
     "name": "stderr",
     "output_type": "stream",
     "text": [
      "Cloning into 'cocoapi'...\n",
      "warning: unknown warning option '-Wno-cpp' [-Wunknown-warning-option]\n",
      "1 warning generated.\n",
      "warning: unknown warning option '-Wno-cpp' [-Wunknown-warning-option]\n",
      "In file included from pycocotools/_mask.c:567:\n",
      "In file included from /Library/Frameworks/Python.framework/Versions/3.6/lib/python3.6/site-packages/numpy/core/include/numpy/arrayobject.h:4:\n",
      "In file included from /Library/Frameworks/Python.framework/Versions/3.6/lib/python3.6/site-packages/numpy/core/include/numpy/ndarrayobject.h:18:\n",
      "In file included from /Library/Frameworks/Python.framework/Versions/3.6/lib/python3.6/site-packages/numpy/core/include/numpy/ndarraytypes.h:1821:\n",
      "/Library/Frameworks/Python.framework/Versions/3.6/lib/python3.6/site-packages/numpy/core/include/numpy/npy_1_7_deprecated_api.h:15:2: warning: \"Using deprecated NumPy API, disable it by \"          \"#defining NPY_NO_DEPRECATED_API NPY_1_7_API_VERSION\" [-W#warnings]\n",
      "#warning \"Using deprecated NumPy API, disable it by \" \\\n",
      " ^\n",
      "2 warnings generated.\n",
      "ln: pycocotools: File exists\n"
     ]
    }
   ],
   "source": [
    "%%bash\n",
    "\n",
    "rm -fr coco\n",
    "rm -fr cocoapi\n",
    "\n",
    "export CC=clang &&\\\n",
    "export CXX=clang++ &&\\\n",
    "\n",
    "# git clone https://github.com/waleedka/coco.git &&\\\n",
    "git clone https://github.com/cocodataset/cocoapi.git &&\\\n",
    "cd cocoapi &&\\\n",
    "cd PythonAPI &&\\\n",
    "python3 setup.py build_ext --inplace &&\\\n",
    "cd ../../ &&\\\n",
    "ln -s coco/PythonAPI/pycocotools/ pycocotools"
   ]
  },
  {
   "cell_type": "code",
   "execution_count": 20,
   "metadata": {
    "scrolled": false
   },
   "outputs": [
    {
     "name": "stdout",
     "output_type": "stream",
     "text": [
      "Requirement already satisfied: h5py==2.8.0 in /Library/Frameworks/Python.framework/Versions/3.6/lib/python3.6/site-packages (from -r requirements.txt (line 1)) (2.8.0)\n",
      "Requirement already satisfied: torchvision==0.2.1 in /Library/Frameworks/Python.framework/Versions/3.6/lib/python3.6/site-packages (from -r requirements.txt (line 2)) (0.2.1)\n",
      "Requirement already satisfied: cffi==1.11.5 in /Library/Frameworks/Python.framework/Versions/3.6/lib/python3.6/site-packages (from -r requirements.txt (line 3)) (1.11.5)\n",
      "Requirement already satisfied: scikit-image==0.14.0 in /Library/Frameworks/Python.framework/Versions/3.6/lib/python3.6/site-packages (from -r requirements.txt (line 4)) (0.14.0)\n",
      "Requirement already satisfied: Cython==0.28.5 in /Library/Frameworks/Python.framework/Versions/3.6/lib/python3.6/site-packages (from -r requirements.txt (line 5)) (0.28.5)\n",
      "Requirement already satisfied: docopt==0.6.2 in /Library/Frameworks/Python.framework/Versions/3.6/lib/python3.6/site-packages (from -r requirements.txt (line 6)) (0.6.2)\n",
      "Requirement already satisfied: clint==0.5.1 in /Library/Frameworks/Python.framework/Versions/3.6/lib/python3.6/site-packages (from -r requirements.txt (line 7)) (0.5.1)\n",
      "Requirement already satisfied: crontab==0.22.2 in /Library/Frameworks/Python.framework/Versions/3.6/lib/python3.6/site-packages (from -r requirements.txt (line 8)) (0.22.2)\n",
      "Requirement already satisfied: tablib==0.12.1 in /Library/Frameworks/Python.framework/Versions/3.6/lib/python3.6/site-packages (from -r requirements.txt (line 9)) (0.12.1)\n",
      "Requirement already satisfied: typing==3.6.6 in /Library/Frameworks/Python.framework/Versions/3.6/lib/python3.6/site-packages (from -r requirements.txt (line 10)) (3.6.6)\n",
      "Requirement already satisfied: pyyaml in /Library/Frameworks/Python.framework/Versions/3.6/lib/python3.6/site-packages (from -r requirements.txt (line 11)) (3.13)\n",
      "Requirement already satisfied: mkl==2019.0 in /Library/Frameworks/Python.framework/Versions/3.6/lib/python3.6/site-packages (from -r requirements.txt (line 12)) (2019.0)\n",
      "Requirement already satisfied: mkl-include==2019.0 in /Library/Frameworks/Python.framework/Versions/3.6/lib/python3.6/site-packages (from -r requirements.txt (line 13)) (2019.0)\n",
      "Requirement already satisfied: setuptools in /Users/micheleenharris/Library/Python/3.6/lib/python/site-packages (from -r requirements.txt (line 14)) (40.4.3)\n",
      "Requirement already satisfied: cmake==3.12.0 in /Library/Frameworks/Python.framework/Versions/3.6/lib/python3.6/site-packages (from -r requirements.txt (line 15)) (3.12.0)\n",
      "Requirement already satisfied: azure in /Library/Frameworks/Python.framework/Versions/3.6/lib/python3.6/site-packages (from -r requirements.txt (line 16)) (4.0.0)\n",
      "Requirement already satisfied: numpy>=1.7 in /Library/Frameworks/Python.framework/Versions/3.6/lib/python3.6/site-packages (from h5py==2.8.0->-r requirements.txt (line 1)) (1.15.2)\n",
      "Requirement already satisfied: six in /Library/Frameworks/Python.framework/Versions/3.6/lib/python3.6/site-packages (from h5py==2.8.0->-r requirements.txt (line 1)) (1.11.0)\n",
      "Requirement already satisfied: pillow>=4.1.1 in /Library/Frameworks/Python.framework/Versions/3.6/lib/python3.6/site-packages (from torchvision==0.2.1->-r requirements.txt (line 2)) (5.2.0)\n",
      "Requirement already satisfied: torch in /Library/Frameworks/Python.framework/Versions/3.6/lib/python3.6/site-packages (from torchvision==0.2.1->-r requirements.txt (line 2)) (0.4.0)\n",
      "Requirement already satisfied: pycparser in /Library/Frameworks/Python.framework/Versions/3.6/lib/python3.6/site-packages (from cffi==1.11.5->-r requirements.txt (line 3)) (2.19)\n",
      "Requirement already satisfied: PyWavelets>=0.4.0 in /Library/Frameworks/Python.framework/Versions/3.6/lib/python3.6/site-packages (from scikit-image==0.14.0->-r requirements.txt (line 4)) (1.0.0)\n",
      "Requirement already satisfied: cloudpickle>=0.2.1 in /Library/Frameworks/Python.framework/Versions/3.6/lib/python3.6/site-packages (from scikit-image==0.14.0->-r requirements.txt (line 4)) (0.5.6)\n",
      "Requirement already satisfied: matplotlib>=2.0.0 in /Library/Frameworks/Python.framework/Versions/3.6/lib/python3.6/site-packages (from scikit-image==0.14.0->-r requirements.txt (line 4)) (3.0.0)\n",
      "Requirement already satisfied: networkx>=1.8 in /Library/Frameworks/Python.framework/Versions/3.6/lib/python3.6/site-packages (from scikit-image==0.14.0->-r requirements.txt (line 4)) (2.2)\n",
      "Requirement already satisfied: scipy>=0.17.0 in /Library/Frameworks/Python.framework/Versions/3.6/lib/python3.6/site-packages (from scikit-image==0.14.0->-r requirements.txt (line 4)) (1.1.0)\n",
      "Requirement already satisfied: dask[array]>=0.9.0 in /Library/Frameworks/Python.framework/Versions/3.6/lib/python3.6/site-packages (from scikit-image==0.14.0->-r requirements.txt (line 4)) (0.19.2)\n",
      "Requirement already satisfied: args in /Library/Frameworks/Python.framework/Versions/3.6/lib/python3.6/site-packages (from clint==0.5.1->-r requirements.txt (line 7)) (0.1.0)\n",
      "Requirement already satisfied: odfpy in /Library/Frameworks/Python.framework/Versions/3.6/lib/python3.6/site-packages (from tablib==0.12.1->-r requirements.txt (line 9)) (1.3.6)\n",
      "Requirement already satisfied: openpyxl in /Library/Frameworks/Python.framework/Versions/3.6/lib/python3.6/site-packages (from tablib==0.12.1->-r requirements.txt (line 9)) (2.5.7)\n",
      "Requirement already satisfied: unicodecsv in /Library/Frameworks/Python.framework/Versions/3.6/lib/python3.6/site-packages (from tablib==0.12.1->-r requirements.txt (line 9)) (0.14.1)\n",
      "Requirement already satisfied: xlrd in /Library/Frameworks/Python.framework/Versions/3.6/lib/python3.6/site-packages (from tablib==0.12.1->-r requirements.txt (line 9)) (1.1.0)\n",
      "Requirement already satisfied: xlwt in /Library/Frameworks/Python.framework/Versions/3.6/lib/python3.6/site-packages (from tablib==0.12.1->-r requirements.txt (line 9)) (1.3.0)\n",
      "Requirement already satisfied: intel-openmp in /Library/Frameworks/Python.framework/Versions/3.6/lib/python3.6/site-packages (from mkl==2019.0->-r requirements.txt (line 12)) (2019.0)\n",
      "Requirement already satisfied: azure-storage-queue~=1.3 in /Library/Frameworks/Python.framework/Versions/3.6/lib/python3.6/site-packages (from azure->-r requirements.txt (line 16)) (1.3.0)\n",
      "Requirement already satisfied: azure-storage-blob~=1.3 in /Library/Frameworks/Python.framework/Versions/3.6/lib/python3.6/site-packages (from azure->-r requirements.txt (line 16)) (1.3.1)\n",
      "Requirement already satisfied: azure-datalake-store~=0.0.18 in /Library/Frameworks/Python.framework/Versions/3.6/lib/python3.6/site-packages (from azure->-r requirements.txt (line 16)) (0.0.36)\n",
      "Requirement already satisfied: azure-servicebus~=0.21.1 in /Library/Frameworks/Python.framework/Versions/3.6/lib/python3.6/site-packages (from azure->-r requirements.txt (line 16)) (0.21.1)\n",
      "Requirement already satisfied: azure-eventgrid~=1.1 in /Library/Frameworks/Python.framework/Versions/3.6/lib/python3.6/site-packages (from azure->-r requirements.txt (line 16)) (1.2.0)\n",
      "Requirement already satisfied: azure-graphrbac~=0.40.0 in /Library/Frameworks/Python.framework/Versions/3.6/lib/python3.6/site-packages (from azure->-r requirements.txt (line 16)) (0.40.0)\n",
      "Requirement already satisfied: azure-batch~=4.1 in /Library/Frameworks/Python.framework/Versions/3.6/lib/python3.6/site-packages (from azure->-r requirements.txt (line 16)) (4.1.3)\n",
      "Requirement already satisfied: azure-cosmosdb-table~=1.0 in /Library/Frameworks/Python.framework/Versions/3.6/lib/python3.6/site-packages (from azure->-r requirements.txt (line 16)) (1.0.5)\n",
      "Requirement already satisfied: azure-loganalytics~=0.1.0 in /Library/Frameworks/Python.framework/Versions/3.6/lib/python3.6/site-packages (from azure->-r requirements.txt (line 16)) (0.1.0)\n",
      "Requirement already satisfied: azure-servicemanagement-legacy~=0.20.6 in /Library/Frameworks/Python.framework/Versions/3.6/lib/python3.6/site-packages (from azure->-r requirements.txt (line 16)) (0.20.6)\n",
      "Requirement already satisfied: azure-mgmt~=4.0 in /Library/Frameworks/Python.framework/Versions/3.6/lib/python3.6/site-packages (from azure->-r requirements.txt (line 16)) (4.0.0)\n",
      "Requirement already satisfied: azure-applicationinsights~=0.1.0 in /Library/Frameworks/Python.framework/Versions/3.6/lib/python3.6/site-packages (from azure->-r requirements.txt (line 16)) (0.1.0)\n",
      "Requirement already satisfied: azure-storage-file~=1.3 in /Library/Frameworks/Python.framework/Versions/3.6/lib/python3.6/site-packages (from azure->-r requirements.txt (line 16)) (1.3.1)\n",
      "Requirement already satisfied: azure-keyvault~=1.0 in /Library/Frameworks/Python.framework/Versions/3.6/lib/python3.6/site-packages (from azure->-r requirements.txt (line 16)) (1.1.0)\n",
      "Requirement already satisfied: azure-servicefabric~=6.3.0.0 in /Library/Frameworks/Python.framework/Versions/3.6/lib/python3.6/site-packages (from azure->-r requirements.txt (line 16)) (6.3.0.0)\n",
      "Requirement already satisfied: kiwisolver>=1.0.1 in /Library/Frameworks/Python.framework/Versions/3.6/lib/python3.6/site-packages (from matplotlib>=2.0.0->scikit-image==0.14.0->-r requirements.txt (line 4)) (1.0.1)\n"
     ]
    },
    {
     "name": "stdout",
     "output_type": "stream",
     "text": [
      "Requirement already satisfied: python-dateutil>=2.1 in /Library/Frameworks/Python.framework/Versions/3.6/lib/python3.6/site-packages (from matplotlib>=2.0.0->scikit-image==0.14.0->-r requirements.txt (line 4)) (2.7.3)\n",
      "Requirement already satisfied: pyparsing!=2.0.4,!=2.1.2,!=2.1.6,>=2.0.1 in /Library/Frameworks/Python.framework/Versions/3.6/lib/python3.6/site-packages (from matplotlib>=2.0.0->scikit-image==0.14.0->-r requirements.txt (line 4)) (2.2.1)\n",
      "Requirement already satisfied: cycler>=0.10 in /Library/Frameworks/Python.framework/Versions/3.6/lib/python3.6/site-packages (from matplotlib>=2.0.0->scikit-image==0.14.0->-r requirements.txt (line 4)) (0.10.0)\n",
      "Requirement already satisfied: decorator>=4.3.0 in /Library/Frameworks/Python.framework/Versions/3.6/lib/python3.6/site-packages (from networkx>=1.8->scikit-image==0.14.0->-r requirements.txt (line 4)) (4.3.0)\n",
      "Requirement already satisfied: toolz>=0.7.3; extra == \"array\" in /Library/Frameworks/Python.framework/Versions/3.6/lib/python3.6/site-packages (from dask[array]>=0.9.0->scikit-image==0.14.0->-r requirements.txt (line 4)) (0.9.0)\n",
      "Requirement already satisfied: jdcal in /Library/Frameworks/Python.framework/Versions/3.6/lib/python3.6/site-packages (from openpyxl->tablib==0.12.1->-r requirements.txt (line 9)) (1.4)\n",
      "Requirement already satisfied: et_xmlfile in /Library/Frameworks/Python.framework/Versions/3.6/lib/python3.6/site-packages (from openpyxl->tablib==0.12.1->-r requirements.txt (line 9)) (1.0.1)\n",
      "Requirement already satisfied: azure-storage-nspkg>=2.0.0 in /Library/Frameworks/Python.framework/Versions/3.6/lib/python3.6/site-packages (from azure-storage-queue~=1.3->azure->-r requirements.txt (line 16)) (3.0.0)\n",
      "Requirement already satisfied: azure-storage-common<1.4.0,>=1.3.0 in /Library/Frameworks/Python.framework/Versions/3.6/lib/python3.6/site-packages (from azure-storage-queue~=1.3->azure->-r requirements.txt (line 16)) (1.3.0)\n",
      "Requirement already satisfied: azure-common>=1.1.5 in /Library/Frameworks/Python.framework/Versions/3.6/lib/python3.6/site-packages (from azure-storage-queue~=1.3->azure->-r requirements.txt (line 16)) (1.1.16)\n",
      "Requirement already satisfied: adal>=0.4.2 in /Library/Frameworks/Python.framework/Versions/3.6/lib/python3.6/site-packages (from azure-datalake-store~=0.0.18->azure->-r requirements.txt (line 16)) (1.2.0)\n",
      "Requirement already satisfied: azure-nspkg>=2.0.0 in /Library/Frameworks/Python.framework/Versions/3.6/lib/python3.6/site-packages (from azure-datalake-store~=0.0.18->azure->-r requirements.txt (line 16)) (3.0.2)\n",
      "Requirement already satisfied: requests>=2.20.0 in /Library/Frameworks/Python.framework/Versions/3.6/lib/python3.6/site-packages (from azure-datalake-store~=0.0.18->azure->-r requirements.txt (line 16)) (2.20.0)\n",
      "Requirement already satisfied: msrestazure<2.0.0,>=0.4.32 in /Library/Frameworks/Python.framework/Versions/3.6/lib/python3.6/site-packages (from azure-eventgrid~=1.1->azure->-r requirements.txt (line 16)) (0.5.1)\n",
      "Requirement already satisfied: msrest>=0.5.0 in /Library/Frameworks/Python.framework/Versions/3.6/lib/python3.6/site-packages (from azure-eventgrid~=1.1->azure->-r requirements.txt (line 16)) (0.6.1)\n",
      "Requirement already satisfied: azure-cosmosdb-nspkg>=2.0.0 in /Library/Frameworks/Python.framework/Versions/3.6/lib/python3.6/site-packages (from azure-cosmosdb-table~=1.0->azure->-r requirements.txt (line 16)) (2.0.2)\n",
      "Requirement already satisfied: cryptography in /Library/Frameworks/Python.framework/Versions/3.6/lib/python3.6/site-packages (from azure-cosmosdb-table~=1.0->azure->-r requirements.txt (line 16)) (2.3.1)\n",
      "Requirement already satisfied: azure-mgmt-datamigration~=1.0 in /Library/Frameworks/Python.framework/Versions/3.6/lib/python3.6/site-packages (from azure-mgmt~=4.0->azure->-r requirements.txt (line 16)) (1.0.0)\n",
      "Requirement already satisfied: azure-mgmt-containerservice~=4.2 in /Library/Frameworks/Python.framework/Versions/3.6/lib/python3.6/site-packages (from azure-mgmt~=4.0->azure->-r requirements.txt (line 16)) (4.2.2)\n",
      "Requirement already satisfied: azure-mgmt-datalake-analytics~=0.6.0 in /Library/Frameworks/Python.framework/Versions/3.6/lib/python3.6/site-packages (from azure-mgmt~=4.0->azure->-r requirements.txt (line 16)) (0.6.0)\n",
      "Requirement already satisfied: azure-mgmt-machinelearningcompute~=0.4.1 in /Library/Frameworks/Python.framework/Versions/3.6/lib/python3.6/site-packages (from azure-mgmt~=4.0->azure->-r requirements.txt (line 16)) (0.4.1)\n",
      "Requirement already satisfied: azure-mgmt-compute~=4.0 in /Library/Frameworks/Python.framework/Versions/3.6/lib/python3.6/site-packages (from azure-mgmt~=4.0->azure->-r requirements.txt (line 16)) (4.3.1)\n",
      "Requirement already satisfied: azure-mgmt-applicationinsights~=0.1.1 in /Library/Frameworks/Python.framework/Versions/3.6/lib/python3.6/site-packages (from azure-mgmt~=4.0->azure->-r requirements.txt (line 16)) (0.1.1)\n",
      "Requirement already satisfied: azure-mgmt-billing~=0.2.0 in /Library/Frameworks/Python.framework/Versions/3.6/lib/python3.6/site-packages (from azure-mgmt~=4.0->azure->-r requirements.txt (line 16)) (0.2.0)\n",
      "Requirement already satisfied: azure-mgmt-datalake-store~=0.5.0 in /Library/Frameworks/Python.framework/Versions/3.6/lib/python3.6/site-packages (from azure-mgmt~=4.0->azure->-r requirements.txt (line 16)) (0.5.0)\n",
      "Requirement already satisfied: azure-mgmt-signalr~=0.1.0 in /Library/Frameworks/Python.framework/Versions/3.6/lib/python3.6/site-packages (from azure-mgmt~=4.0->azure->-r requirements.txt (line 16)) (0.1.1)\n",
      "Requirement already satisfied: azure-mgmt-hanaonazure~=0.1.1 in /Library/Frameworks/Python.framework/Versions/3.6/lib/python3.6/site-packages (from azure-mgmt~=4.0->azure->-r requirements.txt (line 16)) (0.1.1)\n",
      "Requirement already satisfied: azure-mgmt-maps~=0.1.0 in /Library/Frameworks/Python.framework/Versions/3.6/lib/python3.6/site-packages (from azure-mgmt~=4.0->azure->-r requirements.txt (line 16)) (0.1.0)\n",
      "Requirement already satisfied: azure-mgmt-consumption~=2.0 in /Library/Frameworks/Python.framework/Versions/3.6/lib/python3.6/site-packages (from azure-mgmt~=4.0->azure->-r requirements.txt (line 16)) (2.0.0)\n",
      "Requirement already satisfied: azure-mgmt-marketplaceordering~=0.1.0 in /Library/Frameworks/Python.framework/Versions/3.6/lib/python3.6/site-packages (from azure-mgmt~=4.0->azure->-r requirements.txt (line 16)) (0.1.0)\n",
      "Requirement already satisfied: azure-mgmt-media~=1.0.0rc2 in /Library/Frameworks/Python.framework/Versions/3.6/lib/python3.6/site-packages (from azure-mgmt~=4.0->azure->-r requirements.txt (line 16)) (1.0.0)\n",
      "Requirement already satisfied: azure-mgmt-redis~=5.0 in /Library/Frameworks/Python.framework/Versions/3.6/lib/python3.6/site-packages (from azure-mgmt~=4.0->azure->-r requirements.txt (line 16)) (5.0.0)\n",
      "Requirement already satisfied: azure-mgmt-powerbiembedded~=2.0 in /Library/Frameworks/Python.framework/Versions/3.6/lib/python3.6/site-packages (from azure-mgmt~=4.0->azure->-r requirements.txt (line 16)) (2.0.0)\n",
      "Requirement already satisfied: azure-mgmt-cognitiveservices~=3.0 in /Library/Frameworks/Python.framework/Versions/3.6/lib/python3.6/site-packages (from azure-mgmt~=4.0->azure->-r requirements.txt (line 16)) (3.0.0)\n",
      "Requirement already satisfied: azure-mgmt-containerregistry~=2.1 in /Library/Frameworks/Python.framework/Versions/3.6/lib/python3.6/site-packages (from azure-mgmt~=4.0->azure->-r requirements.txt (line 16)) (2.3.0)\n",
      "Requirement already satisfied: azure-mgmt-iotcentral~=0.1.0 in /Library/Frameworks/Python.framework/Versions/3.6/lib/python3.6/site-packages (from azure-mgmt~=4.0->azure->-r requirements.txt (line 16)) (0.1.0)\n",
      "Requirement already satisfied: azure-mgmt-sql~=0.9.1 in /Library/Frameworks/Python.framework/Versions/3.6/lib/python3.6/site-packages (from azure-mgmt~=4.0->azure->-r requirements.txt (line 16)) (0.9.1)\n",
      "Requirement already satisfied: azure-mgmt-loganalytics~=0.2.0 in /Library/Frameworks/Python.framework/Versions/3.6/lib/python3.6/site-packages (from azure-mgmt~=4.0->azure->-r requirements.txt (line 16)) (0.2.0)\n",
      "Requirement already satisfied: azure-mgmt-datafactory~=0.6.0 in /Library/Frameworks/Python.framework/Versions/3.6/lib/python3.6/site-packages (from azure-mgmt~=4.0->azure->-r requirements.txt (line 16)) (0.6.0)\n",
      "Requirement already satisfied: azure-mgmt-batchai~=2.0 in /Library/Frameworks/Python.framework/Versions/3.6/lib/python3.6/site-packages (from azure-mgmt~=4.0->azure->-r requirements.txt (line 16)) (2.0.0)\n",
      "Requirement already satisfied: azure-mgmt-keyvault~=1.0 in /Library/Frameworks/Python.framework/Versions/3.6/lib/python3.6/site-packages (from azure-mgmt~=4.0->azure->-r requirements.txt (line 16)) (1.1.0)\n",
      "Requirement already satisfied: azure-mgmt-managementpartner~=0.1.0 in /Library/Frameworks/Python.framework/Versions/3.6/lib/python3.6/site-packages (from azure-mgmt~=4.0->azure->-r requirements.txt (line 16)) (0.1.0)\n",
      "Requirement already satisfied: azure-mgmt-notificationhubs~=2.0 in /Library/Frameworks/Python.framework/Versions/3.6/lib/python3.6/site-packages (from azure-mgmt~=4.0->azure->-r requirements.txt (line 16)) (2.0.0)\n",
      "Requirement already satisfied: azure-mgmt-policyinsights~=0.1.0 in /Library/Frameworks/Python.framework/Versions/3.6/lib/python3.6/site-packages (from azure-mgmt~=4.0->azure->-r requirements.txt (line 16)) (0.1.0)\n",
      "Requirement already satisfied: azure-mgmt-iothub~=0.5.0 in /Library/Frameworks/Python.framework/Versions/3.6/lib/python3.6/site-packages (from azure-mgmt~=4.0->azure->-r requirements.txt (line 16)) (0.5.0)\n"
     ]
    },
    {
     "name": "stdout",
     "output_type": "stream",
     "text": [
      "Requirement already satisfied: azure-mgmt-dns~=2.0 in /Library/Frameworks/Python.framework/Versions/3.6/lib/python3.6/site-packages (from azure-mgmt~=4.0->azure->-r requirements.txt (line 16)) (2.1.0)\n",
      "Requirement already satisfied: azure-mgmt-recoveryservices~=0.3.0 in /Library/Frameworks/Python.framework/Versions/3.6/lib/python3.6/site-packages (from azure-mgmt~=4.0->azure->-r requirements.txt (line 16)) (0.3.0)\n",
      "Requirement already satisfied: azure-mgmt-trafficmanager~=0.50.0 in /Library/Frameworks/Python.framework/Versions/3.6/lib/python3.6/site-packages (from azure-mgmt~=4.0->azure->-r requirements.txt (line 16)) (0.50.0)\n",
      "Requirement already satisfied: azure-mgmt-search~=2.0 in /Library/Frameworks/Python.framework/Versions/3.6/lib/python3.6/site-packages (from azure-mgmt~=4.0->azure->-r requirements.txt (line 16)) (2.0.0)\n",
      "Requirement already satisfied: azure-mgmt-iothubprovisioningservices~=0.2.0 in /Library/Frameworks/Python.framework/Versions/3.6/lib/python3.6/site-packages (from azure-mgmt~=4.0->azure->-r requirements.txt (line 16)) (0.2.0)\n",
      "Requirement already satisfied: azure-mgmt-eventgrid~=1.0 in /Library/Frameworks/Python.framework/Versions/3.6/lib/python3.6/site-packages (from azure-mgmt~=4.0->azure->-r requirements.txt (line 16)) (1.0.0)\n",
      "Requirement already satisfied: azure-mgmt-batch~=5.0 in /Library/Frameworks/Python.framework/Versions/3.6/lib/python3.6/site-packages (from azure-mgmt~=4.0->azure->-r requirements.txt (line 16)) (5.0.1)\n",
      "Requirement already satisfied: azure-mgmt-devspaces~=0.1.0 in /Library/Frameworks/Python.framework/Versions/3.6/lib/python3.6/site-packages (from azure-mgmt~=4.0->azure->-r requirements.txt (line 16)) (0.1.0)\n",
      "Requirement already satisfied: azure-mgmt-managementgroups~=0.1.0 in /Library/Frameworks/Python.framework/Versions/3.6/lib/python3.6/site-packages (from azure-mgmt~=4.0->azure->-r requirements.txt (line 16)) (0.1.0)\n",
      "Requirement already satisfied: azure-mgmt-network~=2.0 in /Library/Frameworks/Python.framework/Versions/3.6/lib/python3.6/site-packages (from azure-mgmt~=4.0->azure->-r requirements.txt (line 16)) (2.2.1)\n",
      "Requirement already satisfied: azure-mgmt-rdbms~=1.2 in /Library/Frameworks/Python.framework/Versions/3.6/lib/python3.6/site-packages (from azure-mgmt~=4.0->azure->-r requirements.txt (line 16)) (1.5.0)\n",
      "Requirement already satisfied: azure-mgmt-servicebus~=0.5.1 in /Library/Frameworks/Python.framework/Versions/3.6/lib/python3.6/site-packages (from azure-mgmt~=4.0->azure->-r requirements.txt (line 16)) (0.5.3)\n",
      "Requirement already satisfied: azure-mgmt-subscription~=0.2.0 in /Library/Frameworks/Python.framework/Versions/3.6/lib/python3.6/site-packages (from azure-mgmt~=4.0->azure->-r requirements.txt (line 16)) (0.2.0)\n",
      "Requirement already satisfied: azure-mgmt-scheduler~=2.0 in /Library/Frameworks/Python.framework/Versions/3.6/lib/python3.6/site-packages (from azure-mgmt~=4.0->azure->-r requirements.txt (line 16)) (2.0.0)\n",
      "Requirement already satisfied: azure-mgmt-reservations~=0.2.1 in /Library/Frameworks/Python.framework/Versions/3.6/lib/python3.6/site-packages (from azure-mgmt~=4.0->azure->-r requirements.txt (line 16)) (0.2.1)\n",
      "Requirement already satisfied: azure-mgmt-storage~=2.0 in /Library/Frameworks/Python.framework/Versions/3.6/lib/python3.6/site-packages (from azure-mgmt~=4.0->azure->-r requirements.txt (line 16)) (2.0.0)\n",
      "Requirement already satisfied: azure-mgmt-web~=0.35.0 in /Library/Frameworks/Python.framework/Versions/3.6/lib/python3.6/site-packages (from azure-mgmt~=4.0->azure->-r requirements.txt (line 16)) (0.35.0)\n",
      "Requirement already satisfied: azure-mgmt-cdn~=3.0 in /Library/Frameworks/Python.framework/Versions/3.6/lib/python3.6/site-packages (from azure-mgmt~=4.0->azure->-r requirements.txt (line 16)) (3.0.0)\n",
      "Requirement already satisfied: azure-mgmt-containerinstance~=1.0 in /Library/Frameworks/Python.framework/Versions/3.6/lib/python3.6/site-packages (from azure-mgmt~=4.0->azure->-r requirements.txt (line 16)) (1.2.1)\n",
      "Requirement already satisfied: azure-mgmt-recoveryservicesbackup~=0.3.0 in /Library/Frameworks/Python.framework/Versions/3.6/lib/python3.6/site-packages (from azure-mgmt~=4.0->azure->-r requirements.txt (line 16)) (0.3.0)\n",
      "Requirement already satisfied: azure-mgmt-cosmosdb~=0.4.1 in /Library/Frameworks/Python.framework/Versions/3.6/lib/python3.6/site-packages (from azure-mgmt~=4.0->azure->-r requirements.txt (line 16)) (0.4.1)\n",
      "Requirement already satisfied: azure-mgmt-logic~=3.0 in /Library/Frameworks/Python.framework/Versions/3.6/lib/python3.6/site-packages (from azure-mgmt~=4.0->azure->-r requirements.txt (line 16)) (3.0.0)\n",
      "Requirement already satisfied: azure-mgmt-msi~=0.2.0 in /Library/Frameworks/Python.framework/Versions/3.6/lib/python3.6/site-packages (from azure-mgmt~=4.0->azure->-r requirements.txt (line 16)) (0.2.0)\n",
      "Requirement already satisfied: azure-mgmt-authorization~=0.50.0 in /Library/Frameworks/Python.framework/Versions/3.6/lib/python3.6/site-packages (from azure-mgmt~=4.0->azure->-r requirements.txt (line 16)) (0.50.0)\n",
      "Requirement already satisfied: azure-mgmt-devtestlabs~=2.2 in /Library/Frameworks/Python.framework/Versions/3.6/lib/python3.6/site-packages (from azure-mgmt~=4.0->azure->-r requirements.txt (line 16)) (2.2.0)\n",
      "Requirement already satisfied: azure-mgmt-commerce~=1.0 in /Library/Frameworks/Python.framework/Versions/3.6/lib/python3.6/site-packages (from azure-mgmt~=4.0->azure->-r requirements.txt (line 16)) (1.0.1)\n",
      "Requirement already satisfied: azure-mgmt-resource~=2.0 in /Library/Frameworks/Python.framework/Versions/3.6/lib/python3.6/site-packages (from azure-mgmt~=4.0->azure->-r requirements.txt (line 16)) (2.0.0)\n",
      "Requirement already satisfied: azure-mgmt-monitor~=0.5.2 in /Library/Frameworks/Python.framework/Versions/3.6/lib/python3.6/site-packages (from azure-mgmt~=4.0->azure->-r requirements.txt (line 16)) (0.5.2)\n",
      "Requirement already satisfied: azure-mgmt-advisor~=1.0 in /Library/Frameworks/Python.framework/Versions/3.6/lib/python3.6/site-packages (from azure-mgmt~=4.0->azure->-r requirements.txt (line 16)) (1.0.1)\n",
      "Requirement already satisfied: azure-mgmt-servicefabric~=0.2.0 in /Library/Frameworks/Python.framework/Versions/3.6/lib/python3.6/site-packages (from azure-mgmt~=4.0->azure->-r requirements.txt (line 16)) (0.2.0)\n",
      "Requirement already satisfied: azure-mgmt-relay~=0.1.0 in /Library/Frameworks/Python.framework/Versions/3.6/lib/python3.6/site-packages (from azure-mgmt~=4.0->azure->-r requirements.txt (line 16)) (0.1.0)\n",
      "Requirement already satisfied: azure-mgmt-eventhub~=2.1 in /Library/Frameworks/Python.framework/Versions/3.6/lib/python3.6/site-packages (from azure-mgmt~=4.0->azure->-r requirements.txt (line 16)) (2.2.0)\n",
      "Requirement already satisfied: PyJWT>=1.0.0 in /Library/Frameworks/Python.framework/Versions/3.6/lib/python3.6/site-packages (from adal>=0.4.2->azure-datalake-store~=0.0.18->azure->-r requirements.txt (line 16)) (1.6.4)\n",
      "Requirement already satisfied: chardet<3.1.0,>=3.0.2 in /Library/Frameworks/Python.framework/Versions/3.6/lib/python3.6/site-packages (from requests>=2.20.0->azure-datalake-store~=0.0.18->azure->-r requirements.txt (line 16)) (3.0.4)\n",
      "Requirement already satisfied: idna<2.8,>=2.5 in /Library/Frameworks/Python.framework/Versions/3.6/lib/python3.6/site-packages (from requests>=2.20.0->azure-datalake-store~=0.0.18->azure->-r requirements.txt (line 16)) (2.7)\n",
      "Requirement already satisfied: certifi>=2017.4.17 in /Library/Frameworks/Python.framework/Versions/3.6/lib/python3.6/site-packages (from requests>=2.20.0->azure-datalake-store~=0.0.18->azure->-r requirements.txt (line 16)) (2018.8.24)\n",
      "Requirement already satisfied: urllib3<1.25,>=1.21.1 in /Library/Frameworks/Python.framework/Versions/3.6/lib/python3.6/site-packages (from requests>=2.20.0->azure-datalake-store~=0.0.18->azure->-r requirements.txt (line 16)) (1.23)\n",
      "Requirement already satisfied: requests-oauthlib>=0.5.0 in /Library/Frameworks/Python.framework/Versions/3.6/lib/python3.6/site-packages (from msrest>=0.5.0->azure-eventgrid~=1.1->azure->-r requirements.txt (line 16)) (1.0.0)\n",
      "Requirement already satisfied: isodate>=0.6.0 in /Library/Frameworks/Python.framework/Versions/3.6/lib/python3.6/site-packages (from msrest>=0.5.0->azure-eventgrid~=1.1->azure->-r requirements.txt (line 16)) (0.6.0)\n",
      "Requirement already satisfied: asn1crypto>=0.21.0 in /Library/Frameworks/Python.framework/Versions/3.6/lib/python3.6/site-packages (from cryptography->azure-cosmosdb-table~=1.0->azure->-r requirements.txt (line 16)) (0.24.0)\n",
      "Requirement already satisfied: azure-mgmt-nspkg>=2.0.0 in /Library/Frameworks/Python.framework/Versions/3.6/lib/python3.6/site-packages (from azure-mgmt-datamigration~=1.0->azure-mgmt~=4.0->azure->-r requirements.txt (line 16)) (3.0.2)\n",
      "Requirement already satisfied: azure-mgmt-datalake-nspkg>=2.0.0 in /Library/Frameworks/Python.framework/Versions/3.6/lib/python3.6/site-packages (from azure-mgmt-datalake-analytics~=0.6.0->azure-mgmt~=4.0->azure->-r requirements.txt (line 16)) (3.0.1)\n",
      "Requirement already satisfied: oauthlib>=0.6.2 in /Library/Frameworks/Python.framework/Versions/3.6/lib/python3.6/site-packages (from requests-oauthlib>=0.5.0->msrest>=0.5.0->azure-eventgrid~=1.1->azure->-r requirements.txt (line 16)) (2.1.0)\n"
     ]
    },
    {
     "name": "stdout",
     "output_type": "stream",
     "text": [
      "\u001b[33mYou are using pip version 10.0.1, however version 18.1 is available.\r\n",
      "You should consider upgrading via the 'pip install --upgrade pip' command.\u001b[0m\r\n"
     ]
    }
   ],
   "source": [
    "! pip install -r requirements.txt"
   ]
  },
  {
   "cell_type": "markdown",
   "metadata": {},
   "source": [
    "Note, here, for macOS, using Xcode 9.4.1 command line tools"
   ]
  },
  {
   "cell_type": "code",
   "execution_count": 19,
   "metadata": {},
   "outputs": [
    {
     "name": "stdout",
     "output_type": "stream",
     "text": [
      "Looking in links: https://download.pytorch.org/whl/nightly/cpu/torch_nightly.html\n",
      "Collecting torch_nightly\n",
      "\u001b[?25l  Downloading https://download.pytorch.org/whl/nightly/cpu/torch_nightly-1.0.0.dev20181102-cp36-none-macosx_10_7_x86_64.whl (24.2MB)\n",
      "\u001b[K    100% |████████████████████████████████| 24.2MB 955kB/s ta 0:00:011\n",
      "\u001b[?25hInstalling collected packages: torch-nightly\n",
      "Successfully installed torch-nightly-1.0.0.dev20181102\n",
      "\u001b[33mYou are using pip version 10.0.1, however version 18.1 is available.\n",
      "You should consider upgrading via the 'pip install --upgrade pip' command.\u001b[0m\n"
     ]
    }
   ],
   "source": [
    "# # MacOS, see https://pytorch.org/ for other distributions\n",
    "! pip install torch_nightly -f https://download.pytorch.org/whl/nightly/cpu/torch_nightly.html"
   ]
  },
  {
   "cell_type": "code",
   "execution_count": null,
   "metadata": {},
   "outputs": [],
   "source": [
    "# Clean up\n",
    "! rm -fr pycocotools &&\\\n",
    "    rm -fr coco"
   ]
  },
  {
   "cell_type": "markdown",
   "metadata": {},
   "source": [
    "More relevant resolved GitHub issues:\n",
    "* https://github.com/uber/horovod/issues/274#issuecomment-390813445"
   ]
  },
  {
   "cell_type": "code",
   "execution_count": null,
   "metadata": {},
   "outputs": [],
   "source": []
  }
 ],
 "metadata": {
  "kernelspec": {
   "display_name": "Python 3.6 (sys)",
   "language": "python",
   "name": "py36sys"
  },
  "language_info": {
   "codemirror_mode": {
    "name": "ipython",
    "version": 3
   },
   "file_extension": ".py",
   "mimetype": "text/x-python",
   "name": "python",
   "nbconvert_exporter": "python",
   "pygments_lexer": "ipython3",
   "version": "3.6.6"
  },
  "nav_menu": {},
  "toc": {
   "navigate_menu": true,
   "number_sections": true,
   "sideBar": true,
   "threshold": 6,
   "toc_cell": false,
   "toc_section_display": "block",
   "toc_window_display": false
  }
 },
 "nbformat": 4,
 "nbformat_minor": 2
}
