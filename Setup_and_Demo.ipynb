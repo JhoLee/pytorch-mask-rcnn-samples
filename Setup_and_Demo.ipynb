{
 "cells": [
  {
   "cell_type": "markdown",
   "metadata": {},
   "source": [
    "# Demo for PyTorch Mask RCNN\n",
    "Base Repo:  https://github.com/multimodallearning/pytorch-mask-rcnn\n",
    "\n",
    "Sample Repo:  https://github.com/michhar/pytorch-mask-rcnn-samples\n",
    "\n",
    "**Note:  Run this notebook inside of the Sample Repo after cloning**"
   ]
  },
  {
   "cell_type": "markdown",
   "metadata": {},
   "source": [
    "## Prerequisites\n",
    "\n",
    "1.  NVIDIA CUDA Toolkit setup ([NVIDIA CUDA Toolkit Docs](https://docs.nvidia.com/cuda/index.html))\n",
    "2.  PyTorch (tested with version below)"
   ]
  },
  {
   "cell_type": "markdown",
   "metadata": {},
   "source": [
    "## Installs and Setup"
   ]
  },
  {
   "cell_type": "code",
   "execution_count": 38,
   "metadata": {},
   "outputs": [
    {
     "data": {
      "text/plain": [
       "'0.4.1'"
      ]
     },
     "execution_count": 38,
     "metadata": {},
     "output_type": "execute_result"
    }
   ],
   "source": [
    "import torch\n",
    "torch.__version__"
   ]
  },
  {
   "cell_type": "markdown",
   "metadata": {},
   "source": [
    "**Build two extensions**\n",
    "\n",
    "* nms\n",
    "* roi align"
   ]
  },
  {
   "cell_type": "code",
   "execution_count": 70,
   "metadata": {},
   "outputs": [
    {
     "name": "stdout",
     "output_type": "stream",
     "text": [
      "nms_kernel.cu     nms_kernel.cu.o   nms_kernel.h      nms_kernel.h.bkup\r\n"
     ]
    }
   ],
   "source": [
    "! ls nms/src/cuda"
   ]
  },
  {
   "cell_type": "code",
   "execution_count": 77,
   "metadata": {
    "scrolled": false
   },
   "outputs": [
    {
     "name": "stdout",
     "output_type": "stream",
     "text": [
      "/Users/micheleenharris/Documents/bin/github/pytorch-mask-rcnn-samples/nms\n",
      "generating /var/folders/_f/464k2bb144v0gwg6lys9db780000gn/T/tmpi2s8zzoc/_nms.c\n",
      "setting the current directory to '/var/folders/_f/464k2bb144v0gwg6lys9db780000gn/T/tmpi2s8zzoc'\n",
      "running build_ext\n",
      "building '_nms' extension\n",
      "creating Users\n",
      "creating Users/micheleenharris\n",
      "creating Users/micheleenharris/Documents\n",
      "creating Users/micheleenharris/Documents/bin\n",
      "creating Users/micheleenharris/Documents/bin/github\n",
      "creating Users/micheleenharris/Documents/bin/github/pytorch-mask-rcnn-samples\n",
      "creating Users/micheleenharris/Documents/bin/github/pytorch-mask-rcnn-samples/nms\n",
      "creating Users/micheleenharris/Documents/bin/github/pytorch-mask-rcnn-samples/nms/src\n",
      "/usr/local/opt/llvm/bin/clang -Wno-unused-result -Wsign-compare -Wunreachable-code -fno-common -dynamic -DNDEBUG -g -fwrapv -O3 -Wall -arch x86_64 -g -I/Library/Frameworks/Python.framework/Versions/3.6/lib/python3.6/site-packages/torch/utils/ffi/../../lib/include -I/Library/Frameworks/Python.framework/Versions/3.6/lib/python3.6/site-packages/torch/utils/ffi/../../lib/include/TH -I/Library/Frameworks/Python.framework/Versions/3.6/include/python3.6m -c _nms.c -o ./_nms.o\n",
      "/usr/local/opt/llvm/bin/clang -Wno-unused-result -Wsign-compare -Wunreachable-code -fno-common -dynamic -DNDEBUG -g -fwrapv -O3 -Wall -arch x86_64 -g -I/Library/Frameworks/Python.framework/Versions/3.6/lib/python3.6/site-packages/torch/utils/ffi/../../lib/include -I/Library/Frameworks/Python.framework/Versions/3.6/lib/python3.6/site-packages/torch/utils/ffi/../../lib/include/TH -I/Library/Frameworks/Python.framework/Versions/3.6/include/python3.6m -c /Users/micheleenharris/Documents/bin/github/pytorch-mask-rcnn-samples/nms/src/nms.c -o ./Users/micheleenharris/Documents/bin/github/pytorch-mask-rcnn-samples/nms/src/nms.o\n",
      "\u001b[1m/Users/micheleenharris/Documents/bin/github/pytorch-mask-rcnn-samples/nms/src/nms.c:7:42: \u001b[0m\u001b[0;1;35mwarning: \u001b[0m\u001b[1m\n",
      "      incompatible pointer types passing 'THFloatTensor *' (aka\n",
      "      'struct THFloatTensor *') to parameter of type 'const THLongTensor *' (aka\n",
      "      'const struct THLongTensor *') [-Wincompatible-pointer-types]\u001b[0m\n",
      "    THArgCheck(THLongTensor_isContiguous(boxes), 2, \"boxes must be contiguous\");\n",
      "\u001b[0;1;32m                                         ^~~~~\n",
      "\u001b[0m\u001b[1m/Library/Frameworks/Python.framework/Versions/3.6/lib/python3.6/site-packages/torch/utils/ffi/../../lib/include/TH/THGeneral.h:100:35: \u001b[0m\u001b[0;1;30mnote: \u001b[0m\n",
      "      expanded from macro 'THArgCheck'\u001b[0m\n",
      "  _THArgCheck(__FILE__, __LINE__, __VA_ARGS__);                       \\\n",
      "\u001b[0;1;32m                                  ^~~~~~~~~~~\n",
      "\u001b[0m\u001b[1m/Library/Frameworks/Python.framework/Versions/3.6/lib/python3.6/site-packages/torch/utils/ffi/../../lib/include/TH/generic/THTensor.h:114:52: \u001b[0m\u001b[0;1;30mnote: \u001b[0m\n",
      "      passing argument to parameter 'self' here\u001b[0m\n",
      "TH_API int THTensor_(isContiguous)(const THTensor *self);\n",
      "\u001b[0;1;32m                                                   ^\n",
      "\u001b[0m\u001b[1m/Users/micheleenharris/Documents/bin/github/pytorch-mask-rcnn-samples/nms/src/nms.c:9:42: \u001b[0m\u001b[0;1;35mwarning: \u001b[0m\u001b[1m\n",
      "      incompatible pointer types passing 'THFloatTensor *' (aka\n",
      "      'struct THFloatTensor *') to parameter of type 'const THLongTensor *' (aka\n",
      "      'const struct THLongTensor *') [-Wincompatible-pointer-types]\u001b[0m\n",
      "    THArgCheck(THLongTensor_isContiguous(areas), 4, \"areas must be contiguous\");\n",
      "\u001b[0;1;32m                                         ^~~~~\n",
      "\u001b[0m\u001b[1m/Library/Frameworks/Python.framework/Versions/3.6/lib/python3.6/site-packages/torch/utils/ffi/../../lib/include/TH/THGeneral.h:100:35: \u001b[0m\u001b[0;1;30mnote: \u001b[0m\n",
      "      expanded from macro 'THArgCheck'\u001b[0m\n",
      "  _THArgCheck(__FILE__, __LINE__, __VA_ARGS__);                       \\\n",
      "\u001b[0;1;32m                                  ^~~~~~~~~~~\n",
      "\u001b[0m\u001b[1m/Library/Frameworks/Python.framework/Versions/3.6/lib/python3.6/site-packages/torch/utils/ffi/../../lib/include/TH/generic/THTensor.h:114:52: \u001b[0m\u001b[0;1;30mnote: \u001b[0m\n",
      "      passing argument to parameter 'self' here\u001b[0m\n",
      "TH_API int THTensor_(isContiguous)(const THTensor *self);\n",
      "\u001b[0;1;32m                                                   ^\n",
      "\u001b[0m\u001b[1m/Users/micheleenharris/Documents/bin/github/pytorch-mask-rcnn-samples/nms/src/nms.c:14:12: \u001b[0m\u001b[0;1;35mwarning: \u001b[0m\u001b[1m\n",
      "      incompatible pointer types initializing 'long *' with an expression of\n",
      "      type 'int64_t *' (aka 'long long *') [-Wincompatible-pointer-types]\u001b[0m\n",
      "    long * keep_out_flat = THLongTensor_data(keep_out);\n",
      "\u001b[0;1;32m           ^               ~~~~~~~~~~~~~~~~~~~~~~~~~~~\n",
      "\u001b[0m\u001b[1m/Users/micheleenharris/Documents/bin/github/pytorch-mask-rcnn-samples/nms/src/nms.c:16:12: \u001b[0m\u001b[0;1;35mwarning: \u001b[0m\u001b[1m\n",
      "      incompatible pointer types initializing 'long *' with an expression of\n",
      "      type 'int64_t *' (aka 'long long *') [-Wincompatible-pointer-types]\u001b[0m\n",
      "    long * order_flat = THLongTensor_data(order);\n",
      "\u001b[0;1;32m           ^            ~~~~~~~~~~~~~~~~~~~~~~~~\n",
      "\u001b[0m\u001b[1m/Users/micheleenharris/Documents/bin/github/pytorch-mask-rcnn-samples/nms/src/nms.c:65:11: \u001b[0m\u001b[0;1;35mwarning: \u001b[0m\u001b[1m\n",
      "      incompatible pointer types initializing 'long *' with an expression of\n",
      "      type 'int64_t *' (aka 'long long *') [-Wincompatible-pointer-types]\u001b[0m\n",
      "    long *num_out_flat = THLongTensor_data(num_out);\n",
      "\u001b[0;1;32m          ^              ~~~~~~~~~~~~~~~~~~~~~~~~~~\n",
      "\u001b[0m5 warnings generated.\n",
      "/usr/local/opt/llvm/bin/clang -bundle -undefined dynamic_lookup -arch x86_64 -g ./_nms.o ./Users/micheleenharris/Documents/bin/github/pytorch-mask-rcnn-samples/nms/src/nms.o /Users/micheleenharris/Documents/bin/github/pytorch-mask-rcnn-samples/nms/src/cuda/nms_kernel.cu.o -o ./_nms.so\n",
      "ld: warning: object file (/Users/micheleenharris/Documents/bin/github/pytorch-mask-rcnn-samples/nms/src/cuda/nms_kernel.cu.o) was built for newer OSX version (10.13) than being linked (10.9)\n"
     ]
    }
   ],
   "source": [
    "!  export CC=\"/usr/local/opt/llvm/bin/clang\" &&\\\n",
    "cd nms/src/cuda/ && nvcc -c -o nms_kernel.cu.o nms_kernel.cu -x cu -Xcompiler -fPIC -l/usr/local/cuda/lib/libcudart.so &&\\\n",
    "cd ../../ &&\\\n",
    "python3 build.py"
   ]
  },
  {
   "cell_type": "markdown",
   "metadata": {},
   "source": [
    "For the next cuda compiler command, `-arch` flag refers to architectures listed at https://docs.nvidia.com/cuda/cuda-compiler-driver-nvcc/index.html#gpu-compilation."
   ]
  },
  {
   "cell_type": "code",
   "execution_count": 9,
   "metadata": {},
   "outputs": [
    {
     "name": "stdout",
     "output_type": "stream",
     "text": [
      "/Users/micheleenharris/Documents/bin/github/pytorch-mask-rcnn-samples/roialign/roi_align\n",
      "generating /var/folders/_f/464k2bb144v0gwg6lys9db780000gn/T/tmp6hrwq3dc/_crop_and_resize.c\n",
      "setting the current directory to '/var/folders/_f/464k2bb144v0gwg6lys9db780000gn/T/tmp6hrwq3dc'\n",
      "running build_ext\n",
      "building '_crop_and_resize' extension\n",
      "creating Users\n",
      "creating Users/micheleenharris\n",
      "creating Users/micheleenharris/Documents\n",
      "creating Users/micheleenharris/Documents/bin\n",
      "creating Users/micheleenharris/Documents/bin/github\n",
      "creating Users/micheleenharris/Documents/bin/github/pytorch-mask-rcnn-samples\n",
      "creating Users/micheleenharris/Documents/bin/github/pytorch-mask-rcnn-samples/roialign\n",
      "creating Users/micheleenharris/Documents/bin/github/pytorch-mask-rcnn-samples/roialign/roi_align\n",
      "creating Users/micheleenharris/Documents/bin/github/pytorch-mask-rcnn-samples/roialign/roi_align/src\n",
      "/usr/local/bin//gcc-7 -Wno-unused-result -Wsign-compare -Wunreachable-code -fno-common -dynamic -DNDEBUG -g -fwrapv -O3 -Wall -arch x86_64 -g -I/Library/Frameworks/Python.framework/Versions/3.6/lib/python3.6/site-packages/torch/utils/ffi/../../lib/include -I/Library/Frameworks/Python.framework/Versions/3.6/lib/python3.6/site-packages/torch/utils/ffi/../../lib/include/TH -I/Library/Frameworks/Python.framework/Versions/3.6/include/python3.6m -c _crop_and_resize.c -o ./_crop_and_resize.o -fopenmp -std=c99\n",
      "/usr/local/bin//gcc-7 -Wno-unused-result -Wsign-compare -Wunreachable-code -fno-common -dynamic -DNDEBUG -g -fwrapv -O3 -Wall -arch x86_64 -g -I/Library/Frameworks/Python.framework/Versions/3.6/lib/python3.6/site-packages/torch/utils/ffi/../../lib/include -I/Library/Frameworks/Python.framework/Versions/3.6/lib/python3.6/site-packages/torch/utils/ffi/../../lib/include/TH -I/Library/Frameworks/Python.framework/Versions/3.6/include/python3.6m -c /Users/micheleenharris/Documents/bin/github/pytorch-mask-rcnn-samples/roialign/roi_align/src/crop_and_resize.c -o ./Users/micheleenharris/Documents/bin/github/pytorch-mask-rcnn-samples/roialign/roi_align/src/crop_and_resize.o -fopenmp -std=c99\n",
      "/usr/local/bin//gcc-7 -bundle -undefined dynamic_lookup -arch x86_64 -g ./_crop_and_resize.o ./Users/micheleenharris/Documents/bin/github/pytorch-mask-rcnn-samples/roialign/roi_align/src/crop_and_resize.o -o ./_crop_and_resize.so\n"
     ]
    }
   ],
   "source": [
    "!  export CC=\"/usr/local/bin/gcc-7\" &&\\\n",
    "cd roialign/roi_align/src/cuda/ &&\\\n",
    "nvcc -c -o crop_and_resize_kernel.cu.o crop_and_resize_kernel.cu -x cu -Xcompiler -fPIC &&\\\n",
    "cd ../../ &&\\\n",
    "python3 build.py"
   ]
  },
  {
   "cell_type": "code",
   "execution_count": 10,
   "metadata": {},
   "outputs": [
    {
     "name": "stdout",
     "output_type": "stream",
     "text": [
      "FixingPyTorchInstallManual.ipynb fish_pytorch_style.py\r\n",
      "LICENSE                          \u001b[34mimages\u001b[m\u001b[m\r\n",
      "README.md                        model.py\r\n",
      "Setup_and_Demo.ipynb             \u001b[34mnms\u001b[m\u001b[m\r\n",
      "Train_Fish.ipynb                 requirements.txt\r\n",
      "coco.py                          \u001b[34mroialign\u001b[m\u001b[m\r\n",
      "config.py                        utils.py\r\n",
      "\u001b[34mdata\u001b[m\u001b[m                             visualize.py\r\n",
      "demo.py\r\n"
     ]
    }
   ],
   "source": [
    "! ls"
   ]
  },
  {
   "cell_type": "code",
   "execution_count": 11,
   "metadata": {},
   "outputs": [
    {
     "name": "stdout",
     "output_type": "stream",
     "text": [
      "__init__.py         \u001b[31m_crop_and_resize.so\u001b[m\u001b[m\r\n"
     ]
    }
   ],
   "source": [
    "! cd roialign/roi_align/_ext/crop_and_resize/ && ls"
   ]
  },
  {
   "cell_type": "code",
   "execution_count": null,
   "metadata": {},
   "outputs": [],
   "source": [
    "# ! wget http://images.cocodataset.org/zips/train2014.zip"
   ]
  },
  {
   "cell_type": "code",
   "execution_count": 60,
   "metadata": {
    "scrolled": true
   },
   "outputs": [],
   "source": [
    "## If \n",
    "# ! rm -fr cocoapi\n",
    "# ! rm -fr pycocotools\n",
    "# ! export CC=\"/usr/local/opt/llvm/bin/clang\" &&\\\n",
    "#     git clone https://github.com/cocodataset/cocoapi.git &&\\\n",
    "#     cd cocoapi/PythonAPI &&\\\n",
    "#     ln -s cocoapi/PythonAPI/pycocotools/ pycocotools &&\\\n",
    "#     python3 setup.py build_ext --inplace"
   ]
  },
  {
   "cell_type": "code",
   "execution_count": null,
   "metadata": {},
   "outputs": [],
   "source": [
    "! rm -fr coco\n",
    "! rm -fr pycocotools\n",
    "! export CC=\"/usr/local/opt/llvm/bin/clang\" &&\\\n",
    "    git clone https://github.com/waleedka/coco.git &&\\\n",
    "    cd coco/PythonAPI &&\\\n",
    "    python3 setup.py build_ext --inplace"
   ]
  },
  {
   "cell_type": "code",
   "execution_count": 54,
   "metadata": {},
   "outputs": [],
   "source": [
    "! rm -fr pycocotools\n",
    "! ln -s coco/PythonAPI/pycocotools/ pycocotools"
   ]
  },
  {
   "cell_type": "markdown",
   "metadata": {},
   "source": [
    "### Download the Model\n",
    "\n",
    "Here:  https://drive.google.com/open?id=1VV6WgX_RNl6a9Yi9-Pe7ZyVKHRJZSKkm\n",
    "\n",
    "And upload to the root directory of the repo on this machine (where this notebook lives)."
   ]
  },
  {
   "cell_type": "markdown",
   "metadata": {},
   "source": [
    "## Setup and Run Inference"
   ]
  },
  {
   "cell_type": "code",
   "execution_count": 76,
   "metadata": {},
   "outputs": [
    {
     "name": "stdout",
     "output_type": "stream",
     "text": [
      "64\n"
     ]
    }
   ],
   "source": [
    "# Am I running 32 or 64 bit Python\n",
    "import struct\n",
    "print(struct.calcsize(\"P\") * 8)"
   ]
  },
  {
   "cell_type": "code",
   "execution_count": 78,
   "metadata": {
    "scrolled": false
   },
   "outputs": [
    {
     "name": "stdout",
     "output_type": "stream",
     "text": [
      "The autoreload extension is already loaded. To reload it, use:\n",
      "  %reload_ext autoreload\n"
     ]
    },
    {
     "ename": "ImportError",
     "evalue": "dlopen(/Users/micheleenharris/Documents/bin/github/pytorch-mask-rcnn-samples/nms/_ext/nms/_nms.so, 2): Symbol not found: ___cudaRegisterFatBinary\n  Referenced from: /Users/micheleenharris/Documents/bin/github/pytorch-mask-rcnn-samples/nms/_ext/nms/_nms.so\n  Expected in: flat namespace\n in /Users/micheleenharris/Documents/bin/github/pytorch-mask-rcnn-samples/nms/_ext/nms/_nms.so",
     "output_type": "error",
     "traceback": [
      "\u001b[0;31m---------------------------------------------------------------------------\u001b[0m",
      "\u001b[0;31mImportError\u001b[0m                               Traceback (most recent call last)",
      "\u001b[0;32m<ipython-input-78-0d80cfcc20d5>\u001b[0m in \u001b[0;36m<module>\u001b[0;34m()\u001b[0m\n\u001b[1;32m     18\u001b[0m \u001b[0;32mfrom\u001b[0m \u001b[0mpycocotools\u001b[0m \u001b[0;32mimport\u001b[0m \u001b[0mcoco\u001b[0m\u001b[0;34m\u001b[0m\u001b[0m\n\u001b[1;32m     19\u001b[0m \u001b[0;32mimport\u001b[0m \u001b[0mutils\u001b[0m\u001b[0;34m\u001b[0m\u001b[0m\n\u001b[0;32m---> 20\u001b[0;31m \u001b[0;32mimport\u001b[0m \u001b[0mmodel\u001b[0m \u001b[0;32mas\u001b[0m \u001b[0mmodellib\u001b[0m\u001b[0;34m\u001b[0m\u001b[0m\n\u001b[0m\u001b[1;32m     21\u001b[0m \u001b[0;32mimport\u001b[0m \u001b[0mvisualize\u001b[0m\u001b[0;34m\u001b[0m\u001b[0m\n\u001b[1;32m     22\u001b[0m \u001b[0;34m\u001b[0m\u001b[0m\n",
      "\u001b[0;32m~/Documents/bin/github/pytorch-mask-rcnn-samples/model.py\u001b[0m in \u001b[0;36m<module>\u001b[0;34m()\u001b[0m\n\u001b[1;32m     24\u001b[0m \u001b[0;32mimport\u001b[0m \u001b[0mutils\u001b[0m\u001b[0;34m\u001b[0m\u001b[0m\n\u001b[1;32m     25\u001b[0m \u001b[0;32mimport\u001b[0m \u001b[0mvisualize\u001b[0m\u001b[0;34m\u001b[0m\u001b[0m\n\u001b[0;32m---> 26\u001b[0;31m \u001b[0;32mfrom\u001b[0m \u001b[0mnms\u001b[0m\u001b[0;34m.\u001b[0m\u001b[0mnms_wrapper\u001b[0m \u001b[0;32mimport\u001b[0m \u001b[0mnms\u001b[0m\u001b[0;34m\u001b[0m\u001b[0m\n\u001b[0m\u001b[1;32m     27\u001b[0m \u001b[0;32mfrom\u001b[0m \u001b[0mroialign\u001b[0m\u001b[0;34m.\u001b[0m\u001b[0mroi_align\u001b[0m\u001b[0;34m.\u001b[0m\u001b[0mcrop_and_resize\u001b[0m \u001b[0;32mimport\u001b[0m \u001b[0mCropAndResizeFunction\u001b[0m\u001b[0;34m\u001b[0m\u001b[0m\n\u001b[1;32m     28\u001b[0m \u001b[0;34m\u001b[0m\u001b[0m\n",
      "\u001b[0;32m~/Documents/bin/github/pytorch-mask-rcnn-samples/nms/nms_wrapper.py\u001b[0m in \u001b[0;36m<module>\u001b[0;34m()\u001b[0m\n\u001b[1;32m      9\u001b[0m \u001b[0;32mfrom\u001b[0m \u001b[0m__future__\u001b[0m \u001b[0;32mimport\u001b[0m \u001b[0mprint_function\u001b[0m\u001b[0;34m\u001b[0m\u001b[0m\n\u001b[1;32m     10\u001b[0m \u001b[0;34m\u001b[0m\u001b[0m\n\u001b[0;32m---> 11\u001b[0;31m \u001b[0;32mfrom\u001b[0m \u001b[0mnms\u001b[0m\u001b[0;34m.\u001b[0m\u001b[0mpth_nms\u001b[0m \u001b[0;32mimport\u001b[0m \u001b[0mpth_nms\u001b[0m\u001b[0;34m\u001b[0m\u001b[0m\n\u001b[0m\u001b[1;32m     12\u001b[0m \u001b[0;34m\u001b[0m\u001b[0m\n\u001b[1;32m     13\u001b[0m \u001b[0;34m\u001b[0m\u001b[0m\n",
      "\u001b[0;32m~/Documents/bin/github/pytorch-mask-rcnn-samples/nms/pth_nms.py\u001b[0m in \u001b[0;36m<module>\u001b[0;34m()\u001b[0m\n\u001b[1;32m      1\u001b[0m \u001b[0;32mimport\u001b[0m \u001b[0mtorch\u001b[0m\u001b[0;34m\u001b[0m\u001b[0m\n\u001b[0;32m----> 2\u001b[0;31m \u001b[0;32mfrom\u001b[0m \u001b[0;34m.\u001b[0m\u001b[0m_ext\u001b[0m \u001b[0;32mimport\u001b[0m \u001b[0mnms\u001b[0m\u001b[0;34m\u001b[0m\u001b[0m\n\u001b[0m\u001b[1;32m      3\u001b[0m \u001b[0;32mimport\u001b[0m \u001b[0mnumpy\u001b[0m \u001b[0;32mas\u001b[0m \u001b[0mnp\u001b[0m\u001b[0;34m\u001b[0m\u001b[0m\n\u001b[1;32m      4\u001b[0m \u001b[0;34m\u001b[0m\u001b[0m\n\u001b[1;32m      5\u001b[0m \u001b[0;32mdef\u001b[0m \u001b[0mpth_nms\u001b[0m\u001b[0;34m(\u001b[0m\u001b[0mdets\u001b[0m\u001b[0;34m,\u001b[0m \u001b[0mthresh\u001b[0m\u001b[0;34m)\u001b[0m\u001b[0;34m:\u001b[0m\u001b[0;34m\u001b[0m\u001b[0m\n",
      "\u001b[0;32m~/Documents/bin/github/pytorch-mask-rcnn-samples/nms/_ext/nms/__init__.py\u001b[0m in \u001b[0;36m<module>\u001b[0;34m()\u001b[0m\n\u001b[1;32m      1\u001b[0m \u001b[0;34m\u001b[0m\u001b[0m\n\u001b[1;32m      2\u001b[0m \u001b[0;32mfrom\u001b[0m \u001b[0mtorch\u001b[0m\u001b[0;34m.\u001b[0m\u001b[0mutils\u001b[0m\u001b[0;34m.\u001b[0m\u001b[0mffi\u001b[0m \u001b[0;32mimport\u001b[0m \u001b[0m_wrap_function\u001b[0m\u001b[0;34m\u001b[0m\u001b[0m\n\u001b[0;32m----> 3\u001b[0;31m \u001b[0;32mfrom\u001b[0m \u001b[0;34m.\u001b[0m\u001b[0m_nms\u001b[0m \u001b[0;32mimport\u001b[0m \u001b[0mlib\u001b[0m \u001b[0;32mas\u001b[0m \u001b[0m_lib\u001b[0m\u001b[0;34m,\u001b[0m \u001b[0mffi\u001b[0m \u001b[0;32mas\u001b[0m \u001b[0m_ffi\u001b[0m\u001b[0;34m\u001b[0m\u001b[0m\n\u001b[0m\u001b[1;32m      4\u001b[0m \u001b[0;34m\u001b[0m\u001b[0m\n\u001b[1;32m      5\u001b[0m \u001b[0m__all__\u001b[0m \u001b[0;34m=\u001b[0m \u001b[0;34m[\u001b[0m\u001b[0;34m]\u001b[0m\u001b[0;34m\u001b[0m\u001b[0m\n",
      "\u001b[0;31mImportError\u001b[0m: dlopen(/Users/micheleenharris/Documents/bin/github/pytorch-mask-rcnn-samples/nms/_ext/nms/_nms.so, 2): Symbol not found: ___cudaRegisterFatBinary\n  Referenced from: /Users/micheleenharris/Documents/bin/github/pytorch-mask-rcnn-samples/nms/_ext/nms/_nms.so\n  Expected in: flat namespace\n in /Users/micheleenharris/Documents/bin/github/pytorch-mask-rcnn-samples/nms/_ext/nms/_nms.so"
     ]
    }
   ],
   "source": [
    "%load_ext autoreload\n",
    "%autoreload\n",
    "import os\n",
    "import sys\n",
    "import random\n",
    "import math\n",
    "import numpy as np\n",
    "import skimage.io\n",
    "import matplotlib\n",
    "import matplotlib.pyplot as plt\n",
    "import glob\n",
    "from io import BytesIO\n",
    "import requests\n",
    "from PIL import Image\n",
    "%matplotlib inline\n",
    "\n",
    "# import coco\n",
    "from pycocotools import coco\n",
    "import utils\n",
    "import model as modellib\n",
    "import visualize\n",
    "\n",
    "import torch\n",
    "import pycocotools\n",
    "\n",
    "\n",
    "# Root directory of the project\n",
    "ROOT_DIR = os.getcwd()\n",
    "\n",
    "# Directory to save logs and trained model\n",
    "MODEL_DIR = os.path.join(ROOT_DIR, \"logs\")\n",
    "\n",
    "# Path to trained weights file\n",
    "# Download this file and place in the root of your\n",
    "# project (See README file for details)\n",
    "COCO_MODEL_PATH = os.path.join(ROOT_DIR, \"models\", \"mask_rcnn_coco.pth\")\n",
    "\n",
    "# Directory of images to run detection on\n",
    "IMAGE_DIR = os.path.join(ROOT_DIR, \"images\")\n",
    "\n",
    "class InferenceConfig(coco.CocoConfig):\n",
    "    # Set batch size to 1 since we'll be running inference on\n",
    "    # one image at a time. Batch size = GPU_COUNT * IMAGES_PER_GPU\n",
    "    # GPU_COUNT = 0 for CPU\n",
    "    GPU_COUNT = 0\n",
    "    IMAGES_PER_GPU = 1\n",
    "    COCO_MODEL_PATH = os.path.join(ROOT_DIR, \"mask_rcnn_coco.pth\")\n",
    "\n",
    "\n",
    "config = InferenceConfig()\n",
    "config.display()\n",
    "\n",
    "# Create model object.\n",
    "model = modellib.MaskRCNN(model_dir=MODEL_DIR, config=config)\n",
    "if config.GPU_COUNT:\n",
    "    model = model.cuda()\n",
    "\n",
    "# Load weights trained on MS-COCO\n",
    "print(COCO_MODEL_PATH)\n",
    "model.load_state_dict(torch.load(COCO_MODEL_PATH))\n",
    "\n",
    "# COCO Class names\n",
    "# Index of the class in the list is its ID. For example, to get ID of\n",
    "# the teddy bear class, use: class_names.index('teddy bear')\n",
    "class_names = ['BG', 'person', 'bicycle', 'car', 'motorcycle', 'airplane',\n",
    "               'bus', 'train', 'truck', 'boat', 'traffic light',\n",
    "               'fire hydrant', 'stop sign', 'parking meter', 'bench', 'bird',\n",
    "               'cat', 'dog', 'horse', 'sheep', 'cow', 'elephant', 'bear',\n",
    "               'zebra', 'giraffe', 'backpack', 'umbrella', 'handbag', 'tie',\n",
    "               'suitcase', 'frisbee', 'skis', 'snowboard', 'sports ball',\n",
    "               'kite', 'baseball bat', 'baseball glove', 'skateboard',\n",
    "               'surfboard', 'tennis racket', 'bottle', 'wine glass', 'cup',\n",
    "               'fork', 'knife', 'spoon', 'bowl', 'banana', 'apple',\n",
    "               'sandwich', 'orange', 'broccoli', 'carrot', 'hot dog', 'pizza',\n",
    "               'donut', 'cake', 'chair', 'couch', 'potted plant', 'bed',\n",
    "               'dining table', 'toilet', 'tv', 'laptop', 'mouse', 'remote',\n",
    "               'keyboard', 'cell phone', 'microwave', 'oven', 'toaster',\n",
    "               'sink', 'refrigerator', 'book', 'clock', 'vase', 'scissors',\n",
    "               'teddy bear', 'hair drier', 'toothbrush']\n",
    "\n",
    "# Load a random image from the images folder\n",
    "# file_names = glob.glob(os.path.join('images', '*.jpg'))\n",
    "# image = skimage.io.imread(os.path.join(random.choice(file_names)))\n",
    "\n",
    "# Or load file from the internet\n",
    "req = requests.get('http://mylongwalk.com/webdocs%20n%20lejog/Photographs/DN9%20Old%20car.jpg')\n",
    "image = np.asarray(Image.open(BytesIO(req.content)))\n",
    "\n",
    "# Run detection\n",
    "results = model.detect([image])"
   ]
  },
  {
   "cell_type": "code",
   "execution_count": 75,
   "metadata": {},
   "outputs": [
    {
     "ename": "NameError",
     "evalue": "name 'results' is not defined",
     "output_type": "error",
     "traceback": [
      "\u001b[0;31m---------------------------------------------------------------------------\u001b[0m",
      "\u001b[0;31mNameError\u001b[0m                                 Traceback (most recent call last)",
      "\u001b[0;32m<ipython-input-75-7078a53e70b1>\u001b[0m in \u001b[0;36m<module>\u001b[0;34m()\u001b[0m\n\u001b[1;32m      1\u001b[0m \u001b[0;31m# Visualize results\u001b[0m\u001b[0;34m\u001b[0m\u001b[0;34m\u001b[0m\u001b[0m\n\u001b[0;32m----> 2\u001b[0;31m \u001b[0mr\u001b[0m \u001b[0;34m=\u001b[0m \u001b[0mresults\u001b[0m\u001b[0;34m[\u001b[0m\u001b[0;36m0\u001b[0m\u001b[0;34m]\u001b[0m\u001b[0;34m\u001b[0m\u001b[0m\n\u001b[0m\u001b[1;32m      3\u001b[0m visualize.display_instances(image, r['rois'], r['masks'], r['class_ids'],\n\u001b[1;32m      4\u001b[0m                             class_names, r['scores'])\n\u001b[1;32m      5\u001b[0m \u001b[0mplt\u001b[0m\u001b[0;34m.\u001b[0m\u001b[0mshow\u001b[0m\u001b[0;34m(\u001b[0m\u001b[0;34m)\u001b[0m\u001b[0;34m\u001b[0m\u001b[0m\n",
      "\u001b[0;31mNameError\u001b[0m: name 'results' is not defined"
     ]
    }
   ],
   "source": [
    "# Visualize results\n",
    "r = results[0]\n",
    "visualize.display_instances(image, r['rois'], r['masks'], r['class_ids'],\n",
    "                            class_names, r['scores'])\n",
    "plt.show()"
   ]
  },
  {
   "cell_type": "markdown",
   "metadata": {},
   "source": [
    "## Run an actual training experiment"
   ]
  },
  {
   "cell_type": "code",
   "execution_count": null,
   "metadata": {},
   "outputs": [],
   "source": [
    "# ! python coco.py train --dataset=mask_rcnn_coco.pth --model=imagenet"
   ]
  }
 ],
 "metadata": {
  "kernelspec": {
   "display_name": "Python 3.6 (sys)",
   "language": "python",
   "name": "py36sys"
  },
  "language_info": {
   "codemirror_mode": {
    "name": "ipython",
    "version": 3
   },
   "file_extension": ".py",
   "mimetype": "text/x-python",
   "name": "python",
   "nbconvert_exporter": "python",
   "pygments_lexer": "ipython3",
   "version": "3.6.4"
  },
  "nav_menu": {},
  "toc": {
   "navigate_menu": true,
   "number_sections": true,
   "sideBar": true,
   "threshold": 6,
   "toc_cell": false,
   "toc_section_display": "block",
   "toc_window_display": false
  },
  "toc_position": {
   "height": "635.696px",
   "left": "0px",
   "right": "1488.18px",
   "top": "133.438px",
   "width": "25.4545px"
  }
 },
 "nbformat": 4,
 "nbformat_minor": 2
}
