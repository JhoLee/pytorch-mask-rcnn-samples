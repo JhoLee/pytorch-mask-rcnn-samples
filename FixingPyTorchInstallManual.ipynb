{
 "cells": [
  {
   "cell_type": "markdown",
   "metadata": {},
   "source": [
    "## Building PyTorch from Source on Local Machine with CUDA Support\n",
    "Compiling from source to fix some CUDA errors and **be able to compile PyTorch extensions with CUDA support** (this may not be necessary, but in case it is, here are some commands that might be useful).\n",
    "\n",
    "Systems tested:\n",
    "* macOS High Sierra with CUDA 10.0 and cuDNN 7.3.0 ([CUDA setup](https://docs.nvidia.com/cuda/cuda-installation-guide-mac-os-x/index.html) and [cuDNN setup](https://docs.nvidia.com/deeplearning/sdk/cudnn-install/index.html)) and Python 3.6 (non-conda install)"
   ]
  },
  {
   "cell_type": "code",
   "execution_count": null,
   "metadata": {},
   "outputs": [],
   "source": [
    "import sys\n",
    "print(sys.prefix)\n",
    "! {sys.prefix}/bin/pip freeze | grep torch"
   ]
  },
  {
   "cell_type": "markdown",
   "metadata": {},
   "source": [
    "These instructions are based on https://github.com/QuantScientist/Deep-Learning-Boot-Camp/blob/master/day02-PyTORCH-and-PyCUDA/PyTorch/build_torch.sh\n",
    "\n",
    "**NEED NVIDIA CUDA >= 9.2**\n",
    "\n",
    "Make sure using `clang` and `clang++` from Apple through XCode.\n",
    "\n",
    "The following build cell will likely take a long time (hours)."
   ]
  },
  {
   "cell_type": "code",
   "execution_count": null,
   "metadata": {
    "scrolled": false
   },
   "outputs": [],
   "source": [
    "! export PATH=/usr/local/cuda/bin:$PATH &&\\\n",
    "    export LD_LIBRARY_PATH=/usr/local/cuda/lib:$LD_LIBRARY_PATH &&\\\n",
    "    export CUDA_BIN_PATH=/usr/local/cuda/bin &&\\\n",
    "    export CUDA_TOOLKIT_ROOT_DIR=/Developer/NVIDIA/CUDA-10.0 &&\\\n",
    "    export CUDNN_LIB_DIR=/usr/local/cuda/lib &&\\\n",
    "    export CUDA_HOST_COMPILER=/usr/bin/gcc &&\\\n",
    "    export USE_CUDA=1 &&\\\n",
    "    export CC=clang &&\\\n",
    "    export CXX=clang++ &&\\\n",
    "    git clone --recursive https://github.com/pytorch/pytorch &&\\\n",
    "    cd pytorch &&\\\n",
    "    pip3 uninstall torch --yes &&\\\n",
    "    python3 setup.py clean &&\\\n",
    "    python3 setup.py build &&\\\n",
    "    TORCH_CUDA_ARCH_LIST=\"3.7\" python3 setup.py install"
   ]
  },
  {
   "cell_type": "code",
   "execution_count": null,
   "metadata": {},
   "outputs": [],
   "source": [
    "# # To redo above, remove the folder that was git cloned\n",
    "# ! rm -fr pytorch"
   ]
  },
  {
   "cell_type": "code",
   "execution_count": 1,
   "metadata": {},
   "outputs": [
    {
     "data": {
      "text/plain": [
       "'1.0.0a0+c35f85a'"
      ]
     },
     "execution_count": 1,
     "metadata": {},
     "output_type": "execute_result"
    }
   ],
   "source": [
    "import torch\n",
    "torch.__version__"
   ]
  },
  {
   "cell_type": "code",
   "execution_count": null,
   "metadata": {},
   "outputs": [],
   "source": [
    "! ls"
   ]
  },
  {
   "cell_type": "code",
   "execution_count": null,
   "metadata": {},
   "outputs": [],
   "source": []
  }
 ],
 "metadata": {
  "kernelspec": {
   "display_name": "Python 3.6 (sys)",
   "language": "python",
   "name": "py36sys"
  },
  "language_info": {
   "codemirror_mode": {
    "name": "ipython",
    "version": 3
   },
   "file_extension": ".py",
   "mimetype": "text/x-python",
   "name": "python",
   "nbconvert_exporter": "python",
   "pygments_lexer": "ipython3",
   "version": "3.6.6"
  },
  "nav_menu": {},
  "toc": {
   "navigate_menu": true,
   "number_sections": true,
   "sideBar": true,
   "threshold": 6,
   "toc_cell": false,
   "toc_section_display": "block",
   "toc_window_display": false
  }
 },
 "nbformat": 4,
 "nbformat_minor": 2
}
