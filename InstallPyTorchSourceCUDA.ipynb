{
 "cells": [
  {
   "cell_type": "markdown",
   "metadata": {},
   "source": [
    "## Building PyTorch from Source on Local Machine with CUDA Support\n",
    "Compiling from source to **be able to run PyTorch with GPU support and compile PyTorch extensions with CUDA support**\n",
    "\n",
    "Systems tested:\n",
    "* [TBD system] with CUDA 10.0 and cuDNN 7.3.0 ([CUDA setup](https://docs.nvidia.com/cuda/cuda-installation-guide-mac-os-x/index.html) and [cuDNN setup](https://docs.nvidia.com/deeplearning/sdk/cudnn-install/index.html)) and Python 3.6 (non-conda install)"
   ]
  },
  {
   "cell_type": "code",
   "execution_count": null,
   "metadata": {},
   "outputs": [],
   "source": [
    "# What pytorch do we have right now?\n",
    "import sys\n",
    "print(sys.prefix)\n",
    "! {sys.prefix}/bin/pip freeze | grep torch"
   ]
  },
  {
   "cell_type": "markdown",
   "metadata": {},
   "source": [
    "Please have done the following if on macOS (tested with 10.13):\n",
    "1. Pip installed all packages from `requirements.txt` (`pip install -r requirements.txt`)\n",
    "2. Make sure using `clang` and `clang++` from Apple through XCode.\n",
    "3. Homebrew install of `libbind`:  `brew install libbind`\n",
    "4.  NVIDIA CUDA Toolkit setup ([NVIDIA CUDA Toolkit Docs](https://docs.nvidia.com/cuda/index.html))\n",
    "  * NEED NVIDIA CUDA >= 9.2 (testing here with 10.0)\n"
   ]
  },
  {
   "cell_type": "markdown",
   "metadata": {},
   "source": [
    "These instructions are based on \n",
    "* https://github.com/QuantScientist/Deep-Learning-Boot-Camp/blob/master/day02-PyTORCH-and-PyCUDA/PyTorch/build_torch.sh\n",
    "* http://www.cs.rochester.edu/u/kautz/Installing-Pytorch-Cuda-on-Macbook.html\n",
    "* https://github.com/pytorch/pytorch/blob/master/.jenkins/pytorch/macos-build.sh\n",
    "* https://github.com/apache/incubator-mxnet/issues/9217#issuecomment-354982838"
   ]
  },
  {
   "cell_type": "code",
   "execution_count": null,
   "metadata": {
    "scrolled": false
   },
   "outputs": [],
   "source": [
    "! git clone --recursive https://github.com/pytorch/pytorch.git"
   ]
  },
  {
   "cell_type": "code",
   "execution_count": null,
   "metadata": {
    "scrolled": false
   },
   "outputs": [],
   "source": [
    "! export PATH=/usr/local/cuda/bin:$PATH &&\\\n",
    "    export LD_LIBRARY_PATH=/usr/local/cuda/lib:$LD_LIBRARY_PATH &&\\\n",
    "    export CUDA_BIN_PATH=/usr/local/cuda/bin &&\\\n",
    "    export CUDA_TOOLKIT_ROOT_DIR=/Developer/NVIDIA/CUDA-10.0 &&\\\n",
    "    export CUDNN_LIB_DIR=/usr/local/cuda/lib &&\\\n",
    "    export CUDA_HOST_COMPILER=clang &&\\\n",
    "    export USE_CUDA=1 &&\\\n",
    "    export USE_NNPACK=1 &&\\\n",
    "    export CC=clang &&\\\n",
    "    export CXX=clang++ &&\\\n",
    "    cd pytorch &&\\\n",
    "    pip3 uninstall torch --yes &&\\\n",
    "    python3 setup.py clean &&\\\n",
    "    TORCH_CUDA_ARCH_LIST=\"5.2\" python3 setup.py install"
   ]
  },
  {
   "cell_type": "code",
   "execution_count": null,
   "metadata": {},
   "outputs": [],
   "source": [
    "# # To redo above, remove the folder that was git cloned\n",
    "# ! rm -fr pytorch"
   ]
  },
  {
   "cell_type": "code",
   "execution_count": null,
   "metadata": {},
   "outputs": [],
   "source": [
    "import torch\n",
    "torch.__version__"
   ]
  },
  {
   "cell_type": "markdown",
   "metadata": {},
   "source": [
    "It might be prudent to build a wheel for this build.  To do so, on the command line or in a notebook cell, in the `pytorch` folder: [wip command]\n",
    "\n",
    "`python3 setup.py clean && PATH=/Developer/NVIDIA/CUDA-10.0/bin:$PATH LD_LIBRARY_PATH=//Developer/NVIDIA/CUDA-10.0/lib:$LD_LIBRARY_PATH CUDA_BIN_PATH=/Developer/NVIDIA/CUDA-10.0/bin CUDA_TOOLKIT_ROOT_DIR=/Developer/NVIDIA/CUDA-10.0 CUDNN_LIB_DIR=//Developer/NVIDIA/CUDA-10.0/lib USE_CUDA=1 CC=clang CXX=clang++ CUDA_HOME=/Developer/NVIDIA/CUDA-10.0/ USE_NNPACK=0 LDFLAGS=\"-Wl,-no_compact_unwind\" python3 setup.py sdist bdist_wheel`\n",
    "\n",
    "Then the .whl file will be in the `bdist` folder."
   ]
  },
  {
   "cell_type": "markdown",
   "metadata": {},
   "source": [
    "Building on an NVIDIA PX2 Drive (CUDA 9.0, Python 3.5, Ubuntu 16.04):\n",
    "\n",
    "* Note, need a swap file - instructions here https://support.rackspace.com/how-to/create-a-linux-swap-file/ (created 3GB swap file).\n",
    "* This will build a wheel under `bdist`"
   ]
  },
  {
   "cell_type": "code",
   "execution_count": null,
   "metadata": {
    "scrolled": false
   },
   "outputs": [],
   "source": [
    "! export PATH=/usr/local/cuda/bin:$PATH &&\\\n",
    "    export LD_LIBRARY_PATH=/usr/local/cuda/lib64:$LD_LIBRARY_PATH &&\\\n",
    "    export LD_LIBRARY_PATH=/usr/local/lib:$LD_LIBRARY_PATH &&\\\n",
    "    export CUDA_BIN_PATH=/usr/local/cuda/bin &&\\\n",
    "    export CUDA_TOOLKIT_ROOT_DIR=/usr/local/cuda/ &&\\\n",
    "    export CUDNN_LIB_DIR=/usr/local/cuda/lib64 &&\\\n",
    "    export CUDA_HOST_COMPILER=cc &&\\\n",
    "    export USE_CUDA=1 &&\\\n",
    "    export USE_NNPACK=1 &&\\\n",
    "    export CC=cc &&\\\n",
    "    export CXX=c++ &&\\\n",
    "    cd pytorch &&\\\n",
    "    pip3 uninstall torch --yes &&\\\n",
    "    python3 setup.py clean &&\\\n",
    "    TORCH_CUDA_ARCH_LIST=\"3.5 5.2 6.0 6.1+PTX\" TORCH_NVCC_FLAGS=\"-Xfatbin -compress-all\" python3 setup.py install"
   ]
  },
  {
   "cell_type": "code",
   "execution_count": null,
   "metadata": {},
   "outputs": [],
   "source": []
  }
 ],
 "metadata": {
  "kernelspec": {
   "display_name": "Python 3",
   "language": "python",
   "name": "python3"
  },
  "language_info": {
   "codemirror_mode": {
    "name": "ipython",
    "version": 3
   },
   "file_extension": ".py",
   "mimetype": "text/x-python",
   "name": "python",
   "nbconvert_exporter": "python",
   "pygments_lexer": "ipython3",
   "version": "3.5.2"
  },
  "nav_menu": {},
  "toc": {
   "navigate_menu": true,
   "number_sections": true,
   "sideBar": true,
   "threshold": 6,
   "toc_cell": false,
   "toc_section_display": "block",
   "toc_window_display": false
  }
 },
 "nbformat": 4,
 "nbformat_minor": 2
}
