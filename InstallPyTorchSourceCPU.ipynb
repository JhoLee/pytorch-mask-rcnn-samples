{
 "cells": [
  {
   "cell_type": "markdown",
   "metadata": {},
   "source": [
    "## Building PyTorch from Source on Local Machine (CPU-only)\n",
    "\n",
    "Compiling from source [wip on macOS, next Windows]."
   ]
  },
  {
   "cell_type": "code",
   "execution_count": null,
   "metadata": {},
   "outputs": [],
   "source": [
    "# What PyTorch do we have right now if any?\n",
    "import sys\n",
    "print(sys.prefix)\n",
    "! {sys.prefix}/bin/pip freeze | grep torch"
   ]
  },
  {
   "cell_type": "markdown",
   "metadata": {},
   "source": [
    "Please have done the following:\n",
    "* Pip installed all packages from `requirements.txt` (`pip install -r requirements.txt`)\n",
    "* Make sure using `clang` and `clang++` from Apple through XCode if macOS and ___ for Windows.\n",
    "* macOS: homebrew install of `libbind`:  `brew install libbind`"
   ]
  },
  {
   "cell_type": "markdown",
   "metadata": {},
   "source": [
    "These instructions are based on: \n",
    "* https://github.com/QuantScientist/Deep-Learning-Boot-Camp/blob/master/day02-PyTORCH-and-PyCUDA/PyTorch/build_torch.sh\n",
    "* http://www.cs.rochester.edu/u/kautz/Installing-Pytorch-Cuda-on-Macbook.html"
   ]
  },
  {
   "cell_type": "markdown",
   "metadata": {},
   "source": [
    "Equivalent on command line (failing right now :( ):\n",
    "\n",
    "```\n",
    "git clone --recursive https://github.com/pytorch/pytorch\n",
    "cd pytorch\n",
    "CMAKE_PREFIX_PATH=\"/Library/Frameworks/Python.framework/Versions/3.6\" NO_CUDA=1 NO_NNPACK=1 CC=clang CXX=clang++ python3 setup.py install\n",
    "```\n",
    "\n",
    "Additionally, these flags may be needed:\n",
    "* MACOSX_DEPLOYMENT_TARGET=10.x \n",
    "* CMAKE_PREFIX_PATH=\"/Library/Frameworks/Python.framework/Versions/3.6\" \n",
    "* NO_CUDA=1 \n",
    "* USE_CUDA=0 \n",
    "* USE_NNPACK=0 \n",
    "* NO_NNPACK=1 \n",
    "\n",
    "The following build cell will potetially take a long time.  Make sure if you've built before to \"clean\" it (`python3 setup.py clean`)."
   ]
  },
  {
   "cell_type": "code",
   "execution_count": null,
   "metadata": {
    "scrolled": false
   },
   "outputs": [],
   "source": [
    "! git clone --recursive https://github.com/pytorch/pytorch\n",
    "! cd pytorch &&\\\n",
    "    CMAKE_PREFIX_PATH=\"/Library/Frameworks/Python.framework/Versions/3.6\" \\\n",
    "    NO_CUDA=1 \\\n",
    "    NO_NNPACK=1 \\\n",
    "    CC=clang CXX=clang++ \\\n",
    "    python3 setup.py install"
   ]
  },
  {
   "cell_type": "code",
   "execution_count": null,
   "metadata": {},
   "outputs": [],
   "source": [
    "# # To redo above, remove the temp install folder\n",
    "# ! rm -fr torch/lib/tmp_install"
   ]
  },
  {
   "cell_type": "code",
   "execution_count": 2,
   "metadata": {},
   "outputs": [
    {
     "data": {
      "text/plain": [
       "'1.0.0a0+572132f'"
      ]
     },
     "execution_count": 2,
     "metadata": {},
     "output_type": "execute_result"
    }
   ],
   "source": [
    "import torch\n",
    "torch.__version__"
   ]
  },
  {
   "cell_type": "code",
   "execution_count": null,
   "metadata": {},
   "outputs": [],
   "source": [
    "! ls"
   ]
  },
  {
   "cell_type": "markdown",
   "metadata": {},
   "source": [
    "It might be prudent to build a wheel for this build.  To do so, on the command line or in a notebook cell and in the `pytorch` folder:\n",
    "\n",
    "`CMAKE_PREFIX_PATH=\"/Library/Frameworks/Python.framework/Versions/3.6\" NO_CUDA=1 NO_NNPACK=1 CC=clang CXX=clang++ python3 setup.py sdist bdist_wheel`\n",
    "\n",
    "Then the .whl file will be in the `bdist` folder."
   ]
  }
 ],
 "metadata": {
  "kernelspec": {
   "display_name": "Python 3.6 (sys)",
   "language": "python",
   "name": "py36sys"
  },
  "language_info": {
   "codemirror_mode": {
    "name": "ipython",
    "version": 3
   },
   "file_extension": ".py",
   "mimetype": "text/x-python",
   "name": "python",
   "nbconvert_exporter": "python",
   "pygments_lexer": "ipython3",
   "version": "3.6.6"
  },
  "nav_menu": {},
  "toc": {
   "navigate_menu": true,
   "number_sections": true,
   "sideBar": true,
   "threshold": 6,
   "toc_cell": false,
   "toc_section_display": "block",
   "toc_window_display": false
  }
 },
 "nbformat": 4,
 "nbformat_minor": 2
}
